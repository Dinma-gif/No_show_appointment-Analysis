{
 "cells": [
  {
   "cell_type": "markdown",
   "metadata": {},
   "source": [
    "\n",
    "# Project: No_show_appointments Dataset\n",
    "\n",
    "## Table of Contents\n",
    "<ul>\n",
    "<li><a href=\"#intro\">Introduction</a></li>\n",
    "<li><a href=\"#wrangling\">Data Wrangling</a></li>\n",
    "<li><a href=\"#eda\">Exploratory Data Analysis</a></li>\n",
    "<li><a href=\"#conclusions\">Conclusions</a></li>\n",
    "</ul>"
   ]
  },
  {
   "cell_type": "markdown",
   "metadata": {},
   "source": [
    "<a id='intro'></a>\n",
    "## Introduction\n",
    "\n",
    "> This dataset collects information from 100k medical appointments in Brazil and is focused on the question of whether or not patients show up for their appointments or not.\n",
    "> A number of characteristics about the patient are included in each row.\n",
    "This includes :\n",
    "\n",
    ">Scheduled Day- this tells us on what day the patient set up their appointment.\n",
    "\n",
    ">Neighborhood- Patients location\n",
    "\n",
    ">Scholarship - indicates whether or not the patient is enrolled in Brasilian welfare program Bolsa Família.\n",
    "\n",
    ">Patient Id - gives information about the patient identity number \n",
    "\n",
    ">Appoinment Id -indicates the appoinment id number \n",
    "\n",
    ">Gender - indicates Male/Female\n",
    "\n",
    ">Appoinment Day - this indicates the day the patient should see the doctor\n",
    "\n",
    ">Age - ranging from (-1 t0 115)\n",
    "\n",
    ">Sms_received - If patients got a text messsage invite\n",
    "\n",
    "> No-show\n",
    "\n",
    ">Types of Diseases of patient includes (Hypertension,Diabeties,Alchololism,Handicap)\n",
    ">\n",
    "> **NOTE**:  for this dataset,if the patient showed up to their appointment **NO**, and **YES** if they did not show up."
   ]
  },
  {
   "cell_type": "markdown",
   "metadata": {},
   "source": [
    "### Questions  for No-Show Data Set Analysis"
   ]
  },
  {
   "cell_type": "markdown",
   "metadata": {},
   "source": [
    "> Does Gender Affect showing up for Appointment?\n",
    "\n",
    ">Does Scholarship affect  showing  up for Appointment\n",
    "\n",
    ">Does Receiving Sms notification affect showing up for appointment?\n",
    "\n",
    ">Does Age affect showing up for Appointment?\n",
    "\n",
    ">Does the day of the week affect showing up for appointment?\n"
   ]
  },
  {
   "cell_type": "code",
   "execution_count": 1,
   "metadata": {
    "scrolled": true
   },
   "outputs": [],
   "source": [
    "#import necessary libraries for data manipulation and visualization\n",
    "\n",
    "\n",
    "import pandas as pd \n",
    "import numpy as np\n",
    "import matplotlib.pyplot as plt\n",
    "import seaborn as sns\n",
    "sns.set_style('dark')\n",
    "%matplotlib inline\n",
    "\n"
   ]
  },
  {
   "cell_type": "code",
   "execution_count": 2,
   "metadata": {
    "scrolled": true
   },
   "outputs": [
    {
     "data": {
      "text/html": [
       "<div>\n",
       "<style scoped>\n",
       "    .dataframe tbody tr th:only-of-type {\n",
       "        vertical-align: middle;\n",
       "    }\n",
       "\n",
       "    .dataframe tbody tr th {\n",
       "        vertical-align: top;\n",
       "    }\n",
       "\n",
       "    .dataframe thead th {\n",
       "        text-align: right;\n",
       "    }\n",
       "</style>\n",
       "<table border=\"1\" class=\"dataframe\">\n",
       "  <thead>\n",
       "    <tr style=\"text-align: right;\">\n",
       "      <th></th>\n",
       "      <th>PatientId</th>\n",
       "      <th>AppointmentID</th>\n",
       "      <th>Gender</th>\n",
       "      <th>ScheduledDay</th>\n",
       "      <th>AppointmentDay</th>\n",
       "      <th>Age</th>\n",
       "      <th>Neighbourhood</th>\n",
       "      <th>Scholarship</th>\n",
       "      <th>Hipertension</th>\n",
       "      <th>Diabetes</th>\n",
       "      <th>Alcoholism</th>\n",
       "      <th>Handcap</th>\n",
       "      <th>SMS_received</th>\n",
       "      <th>No-show</th>\n",
       "    </tr>\n",
       "  </thead>\n",
       "  <tbody>\n",
       "    <tr>\n",
       "      <th>0</th>\n",
       "      <td>2.987250e+13</td>\n",
       "      <td>5642903</td>\n",
       "      <td>F</td>\n",
       "      <td>2016-04-29T18:38:08Z</td>\n",
       "      <td>2016-04-29T00:00:00Z</td>\n",
       "      <td>62</td>\n",
       "      <td>JARDIM DA PENHA</td>\n",
       "      <td>0</td>\n",
       "      <td>1</td>\n",
       "      <td>0</td>\n",
       "      <td>0</td>\n",
       "      <td>0</td>\n",
       "      <td>0</td>\n",
       "      <td>No</td>\n",
       "    </tr>\n",
       "    <tr>\n",
       "      <th>1</th>\n",
       "      <td>5.589978e+14</td>\n",
       "      <td>5642503</td>\n",
       "      <td>M</td>\n",
       "      <td>2016-04-29T16:08:27Z</td>\n",
       "      <td>2016-04-29T00:00:00Z</td>\n",
       "      <td>56</td>\n",
       "      <td>JARDIM DA PENHA</td>\n",
       "      <td>0</td>\n",
       "      <td>0</td>\n",
       "      <td>0</td>\n",
       "      <td>0</td>\n",
       "      <td>0</td>\n",
       "      <td>0</td>\n",
       "      <td>No</td>\n",
       "    </tr>\n",
       "    <tr>\n",
       "      <th>2</th>\n",
       "      <td>4.262962e+12</td>\n",
       "      <td>5642549</td>\n",
       "      <td>F</td>\n",
       "      <td>2016-04-29T16:19:04Z</td>\n",
       "      <td>2016-04-29T00:00:00Z</td>\n",
       "      <td>62</td>\n",
       "      <td>MATA DA PRAIA</td>\n",
       "      <td>0</td>\n",
       "      <td>0</td>\n",
       "      <td>0</td>\n",
       "      <td>0</td>\n",
       "      <td>0</td>\n",
       "      <td>0</td>\n",
       "      <td>No</td>\n",
       "    </tr>\n",
       "    <tr>\n",
       "      <th>3</th>\n",
       "      <td>8.679512e+11</td>\n",
       "      <td>5642828</td>\n",
       "      <td>F</td>\n",
       "      <td>2016-04-29T17:29:31Z</td>\n",
       "      <td>2016-04-29T00:00:00Z</td>\n",
       "      <td>8</td>\n",
       "      <td>PONTAL DE CAMBURI</td>\n",
       "      <td>0</td>\n",
       "      <td>0</td>\n",
       "      <td>0</td>\n",
       "      <td>0</td>\n",
       "      <td>0</td>\n",
       "      <td>0</td>\n",
       "      <td>No</td>\n",
       "    </tr>\n",
       "    <tr>\n",
       "      <th>4</th>\n",
       "      <td>8.841186e+12</td>\n",
       "      <td>5642494</td>\n",
       "      <td>F</td>\n",
       "      <td>2016-04-29T16:07:23Z</td>\n",
       "      <td>2016-04-29T00:00:00Z</td>\n",
       "      <td>56</td>\n",
       "      <td>JARDIM DA PENHA</td>\n",
       "      <td>0</td>\n",
       "      <td>1</td>\n",
       "      <td>1</td>\n",
       "      <td>0</td>\n",
       "      <td>0</td>\n",
       "      <td>0</td>\n",
       "      <td>No</td>\n",
       "    </tr>\n",
       "  </tbody>\n",
       "</table>\n",
       "</div>"
      ],
      "text/plain": [
       "      PatientId  AppointmentID Gender          ScheduledDay  \\\n",
       "0  2.987250e+13        5642903      F  2016-04-29T18:38:08Z   \n",
       "1  5.589978e+14        5642503      M  2016-04-29T16:08:27Z   \n",
       "2  4.262962e+12        5642549      F  2016-04-29T16:19:04Z   \n",
       "3  8.679512e+11        5642828      F  2016-04-29T17:29:31Z   \n",
       "4  8.841186e+12        5642494      F  2016-04-29T16:07:23Z   \n",
       "\n",
       "         AppointmentDay  Age      Neighbourhood  Scholarship  Hipertension  \\\n",
       "0  2016-04-29T00:00:00Z   62    JARDIM DA PENHA            0             1   \n",
       "1  2016-04-29T00:00:00Z   56    JARDIM DA PENHA            0             0   \n",
       "2  2016-04-29T00:00:00Z   62      MATA DA PRAIA            0             0   \n",
       "3  2016-04-29T00:00:00Z    8  PONTAL DE CAMBURI            0             0   \n",
       "4  2016-04-29T00:00:00Z   56    JARDIM DA PENHA            0             1   \n",
       "\n",
       "   Diabetes  Alcoholism  Handcap  SMS_received No-show  \n",
       "0         0           0        0             0      No  \n",
       "1         0           0        0             0      No  \n",
       "2         0           0        0             0      No  \n",
       "3         0           0        0             0      No  \n",
       "4         1           0        0             0      No  "
      ]
     },
     "execution_count": 2,
     "metadata": {},
     "output_type": "execute_result"
    }
   ],
   "source": [
    "# Load your data into jupyter console\n",
    "\n",
    "\n",
    "df = pd.read_csv('C:\\\\Users\\\\USER\\\\Downloads\\\\project1\\\\noshowappointments.csv')\n",
    "df.head()"
   ]
  },
  {
   "cell_type": "markdown",
   "metadata": {},
   "source": [
    "<a id='wrangling'></a>\n",
    "## Data Wrangling"
   ]
  },
  {
   "cell_type": "code",
   "execution_count": 3,
   "metadata": {},
   "outputs": [
    {
     "data": {
      "text/plain": [
       "PatientId         float64\n",
       "AppointmentID       int64\n",
       "Gender             object\n",
       "ScheduledDay       object\n",
       "AppointmentDay     object\n",
       "Age                 int64\n",
       "Neighbourhood      object\n",
       "Scholarship         int64\n",
       "Hipertension        int64\n",
       "Diabetes            int64\n",
       "Alcoholism          int64\n",
       "Handcap             int64\n",
       "SMS_received        int64\n",
       "No-show            object\n",
       "dtype: object"
      ]
     },
     "execution_count": 3,
     "metadata": {},
     "output_type": "execute_result"
    }
   ],
   "source": [
    "#returns the datatypes of each columns\n",
    "df.dtypes"
   ]
  },
  {
   "cell_type": "code",
   "execution_count": 4,
   "metadata": {},
   "outputs": [
    {
     "name": "stdout",
     "output_type": "stream",
     "text": [
      "<class 'pandas.core.frame.DataFrame'>\n",
      "RangeIndex: 110527 entries, 0 to 110526\n",
      "Data columns (total 14 columns):\n",
      " #   Column          Non-Null Count   Dtype  \n",
      "---  ------          --------------   -----  \n",
      " 0   PatientId       110527 non-null  float64\n",
      " 1   AppointmentID   110527 non-null  int64  \n",
      " 2   Gender          110527 non-null  object \n",
      " 3   ScheduledDay    110527 non-null  object \n",
      " 4   AppointmentDay  110527 non-null  object \n",
      " 5   Age             110527 non-null  int64  \n",
      " 6   Neighbourhood   110527 non-null  object \n",
      " 7   Scholarship     110527 non-null  int64  \n",
      " 8   Hipertension    110527 non-null  int64  \n",
      " 9   Diabetes        110527 non-null  int64  \n",
      " 10  Alcoholism      110527 non-null  int64  \n",
      " 11  Handcap         110527 non-null  int64  \n",
      " 12  SMS_received    110527 non-null  int64  \n",
      " 13  No-show         110527 non-null  object \n",
      "dtypes: float64(1), int64(8), object(5)\n",
      "memory usage: 11.8+ MB\n"
     ]
    }
   ],
   "source": [
    "#This prints information about a DataFrame including the index dtype and columns, non-null values and memory usage.\n",
    "\n",
    "\n",
    "df.info()"
   ]
  },
  {
   "cell_type": "code",
   "execution_count": 5,
   "metadata": {},
   "outputs": [
    {
     "data": {
      "text/plain": [
       "(110527, 14)"
      ]
     },
     "execution_count": 5,
     "metadata": {},
     "output_type": "execute_result"
    }
   ],
   "source": [
    "df.shape  #These shows a tuple that consists of 110527 records  and 18 columns"
   ]
  },
  {
   "cell_type": "code",
   "execution_count": 6,
   "metadata": {},
   "outputs": [
    {
     "data": {
      "text/plain": [
       "PatientId         False\n",
       "AppointmentID     False\n",
       "Gender            False\n",
       "ScheduledDay      False\n",
       "AppointmentDay    False\n",
       "Age               False\n",
       "Neighbourhood     False\n",
       "Scholarship       False\n",
       "Hipertension      False\n",
       "Diabetes          False\n",
       "Alcoholism        False\n",
       "Handcap           False\n",
       "SMS_received      False\n",
       "No-show           False\n",
       "dtype: bool"
      ]
     },
     "execution_count": 6,
     "metadata": {},
     "output_type": "execute_result"
    }
   ],
   "source": [
    "#   types and look for instances of missing or possibly errant data.\n",
    "df.isnull().any()\n"
   ]
  },
  {
   "cell_type": "markdown",
   "metadata": {},
   "source": [
    "\n",
    "\n",
    "The no-show appointment dataset contains **110527 records** and the total of **14 columns** \n",
    "There are 5 object data type(string),8 int64 and 1 float.\n",
    "\n",
    "**The AppointmentDay and Scheduled Day** should be in Date format."
   ]
  },
  {
   "cell_type": "code",
   "execution_count": 7,
   "metadata": {},
   "outputs": [],
   "source": [
    "#Convert The Data type for AppointmentDay column to Datetime\n",
    "df['AppointmentDay'] = pd.to_datetime(df['AppointmentDay']) \n",
    "\n",
    "\n",
    "#Extract the month of appointment                                   \n",
    "df['Appointment_Month'] =df['AppointmentDay'].dt.month_name()\n",
    "\n",
    "\n",
    "#Extract the Day of Appointment\n",
    "df['Appointment_Day']=df['AppointmentDay'].dt.day_name()"
   ]
  },
  {
   "cell_type": "code",
   "execution_count": 8,
   "metadata": {},
   "outputs": [],
   "source": [
    "#converting Gender, Scholarship, Diabetes, Alcoholism , Handicap and sms_received to categorical datatype\n",
    "\n",
    "\n",
    "df.iloc[:,6:13]=df.iloc[:,6:13].astype('category')"
   ]
  },
  {
   "cell_type": "markdown",
   "metadata": {},
   "source": [
    "There are no duplicate rows in this dataset. Yipee!!"
   ]
  },
  {
   "cell_type": "code",
   "execution_count": 9,
   "metadata": {},
   "outputs": [
    {
     "data": {
      "text/plain": [
       "PatientId             62299\n",
       "AppointmentID        110527\n",
       "Gender                    2\n",
       "ScheduledDay         103549\n",
       "AppointmentDay           27\n",
       "Age                     104\n",
       "Neighbourhood            81\n",
       "Scholarship               2\n",
       "Hipertension              2\n",
       "Diabetes                  2\n",
       "Alcoholism                2\n",
       "Handcap                   5\n",
       "SMS_received              2\n",
       "No-show                   2\n",
       "Appointment_Month         3\n",
       "Appointment_Day           6\n",
       "dtype: int64"
      ]
     },
     "execution_count": 9,
     "metadata": {},
     "output_type": "execute_result"
    }
   ],
   "source": [
    "#counts numbers of unique values \n",
    "df.nunique(axis = 0)"
   ]
  },
  {
   "cell_type": "code",
   "execution_count": 10,
   "metadata": {},
   "outputs": [
    {
     "data": {
      "text/html": [
       "<div>\n",
       "<style scoped>\n",
       "    .dataframe tbody tr th:only-of-type {\n",
       "        vertical-align: middle;\n",
       "    }\n",
       "\n",
       "    .dataframe tbody tr th {\n",
       "        vertical-align: top;\n",
       "    }\n",
       "\n",
       "    .dataframe thead th {\n",
       "        text-align: right;\n",
       "    }\n",
       "</style>\n",
       "<table border=\"1\" class=\"dataframe\">\n",
       "  <thead>\n",
       "    <tr style=\"text-align: right;\">\n",
       "      <th></th>\n",
       "      <th>PatientId</th>\n",
       "      <th>AppointmentID</th>\n",
       "      <th>Age</th>\n",
       "    </tr>\n",
       "  </thead>\n",
       "  <tbody>\n",
       "    <tr>\n",
       "      <th>count</th>\n",
       "      <td>1.105270e+05</td>\n",
       "      <td>1.105270e+05</td>\n",
       "      <td>110527.000000</td>\n",
       "    </tr>\n",
       "    <tr>\n",
       "      <th>mean</th>\n",
       "      <td>1.474963e+14</td>\n",
       "      <td>5.675305e+06</td>\n",
       "      <td>37.088874</td>\n",
       "    </tr>\n",
       "    <tr>\n",
       "      <th>std</th>\n",
       "      <td>2.560949e+14</td>\n",
       "      <td>7.129575e+04</td>\n",
       "      <td>23.110205</td>\n",
       "    </tr>\n",
       "    <tr>\n",
       "      <th>min</th>\n",
       "      <td>3.921784e+04</td>\n",
       "      <td>5.030230e+06</td>\n",
       "      <td>-1.000000</td>\n",
       "    </tr>\n",
       "    <tr>\n",
       "      <th>25%</th>\n",
       "      <td>4.172614e+12</td>\n",
       "      <td>5.640286e+06</td>\n",
       "      <td>18.000000</td>\n",
       "    </tr>\n",
       "    <tr>\n",
       "      <th>50%</th>\n",
       "      <td>3.173184e+13</td>\n",
       "      <td>5.680573e+06</td>\n",
       "      <td>37.000000</td>\n",
       "    </tr>\n",
       "    <tr>\n",
       "      <th>75%</th>\n",
       "      <td>9.439172e+13</td>\n",
       "      <td>5.725524e+06</td>\n",
       "      <td>55.000000</td>\n",
       "    </tr>\n",
       "    <tr>\n",
       "      <th>max</th>\n",
       "      <td>9.999816e+14</td>\n",
       "      <td>5.790484e+06</td>\n",
       "      <td>115.000000</td>\n",
       "    </tr>\n",
       "  </tbody>\n",
       "</table>\n",
       "</div>"
      ],
      "text/plain": [
       "          PatientId  AppointmentID            Age\n",
       "count  1.105270e+05   1.105270e+05  110527.000000\n",
       "mean   1.474963e+14   5.675305e+06      37.088874\n",
       "std    2.560949e+14   7.129575e+04      23.110205\n",
       "min    3.921784e+04   5.030230e+06      -1.000000\n",
       "25%    4.172614e+12   5.640286e+06      18.000000\n",
       "50%    3.173184e+13   5.680573e+06      37.000000\n",
       "75%    9.439172e+13   5.725524e+06      55.000000\n",
       "max    9.999816e+14   5.790484e+06     115.000000"
      ]
     },
     "execution_count": 10,
     "metadata": {},
     "output_type": "execute_result"
    }
   ],
   "source": [
    "#General Descriptive Statistics of numerical columns\n",
    "df.describe()"
   ]
  },
  {
   "cell_type": "markdown",
   "metadata": {},
   "source": [
    "There are a total number of 62299 patients which consists of two genders(Male and Female).Patients from 81 Unique locations visits this Brazil Clinic. The Scholarship,Hypertension,Diabetes,Alcoholism,Handicap and Sms_received are categorical varaibles in 1's and 0's which could mean **Yes** or **No** .The Handicap column has 5 different categories"
   ]
  },
  {
   "cell_type": "markdown",
   "metadata": {},
   "source": [
    ">The PatientId Column isn't providing much information about the dataset,hence the need to drop it\n",
    "\n",
    "> The Minimum Age on the Age column is -1 oops! and the maximum age is 115,looks to me like an outlier . \n",
    "\n",
    "> The Negative Age will be dropped \n",
    "\n",
    ">The mean age  is 37.\n",
    "\n",
    "\n"
   ]
  },
  {
   "cell_type": "code",
   "execution_count": 11,
   "metadata": {},
   "outputs": [],
   "source": [
    "# The Patient Id isnt giving so much information so it will be dropped\n",
    "\n",
    "del df['PatientId']"
   ]
  },
  {
   "cell_type": "code",
   "execution_count": 12,
   "metadata": {},
   "outputs": [],
   "source": [
    "# Getting to know the column names , some of the column spellings are wrong \n",
    "\n",
    "\n",
    "df = df.rename(columns={'Handcap':'Handicap' ,'Hipertension':'Hypertension','No-show':'no_show','SMS_received':'Sms_received'})"
   ]
  },
  {
   "cell_type": "code",
   "execution_count": 13,
   "metadata": {},
   "outputs": [
    {
     "data": {
      "text/html": [
       "<div>\n",
       "<style scoped>\n",
       "    .dataframe tbody tr th:only-of-type {\n",
       "        vertical-align: middle;\n",
       "    }\n",
       "\n",
       "    .dataframe tbody tr th {\n",
       "        vertical-align: top;\n",
       "    }\n",
       "\n",
       "    .dataframe thead th {\n",
       "        text-align: right;\n",
       "    }\n",
       "</style>\n",
       "<table border=\"1\" class=\"dataframe\">\n",
       "  <thead>\n",
       "    <tr style=\"text-align: right;\">\n",
       "      <th></th>\n",
       "      <th>AppointmentID</th>\n",
       "      <th>Gender</th>\n",
       "      <th>ScheduledDay</th>\n",
       "      <th>AppointmentDay</th>\n",
       "      <th>Age</th>\n",
       "      <th>Neighbourhood</th>\n",
       "      <th>Scholarship</th>\n",
       "      <th>Hypertension</th>\n",
       "      <th>Diabetes</th>\n",
       "      <th>Alcoholism</th>\n",
       "      <th>Handicap</th>\n",
       "      <th>Sms_received</th>\n",
       "      <th>no_show</th>\n",
       "      <th>Appointment_Month</th>\n",
       "      <th>Appointment_Day</th>\n",
       "    </tr>\n",
       "  </thead>\n",
       "  <tbody>\n",
       "    <tr>\n",
       "      <th>0</th>\n",
       "      <td>5642903</td>\n",
       "      <td>F</td>\n",
       "      <td>2016-04-29T18:38:08Z</td>\n",
       "      <td>2016-04-29 00:00:00+00:00</td>\n",
       "      <td>62</td>\n",
       "      <td>JARDIM DA PENHA</td>\n",
       "      <td>0</td>\n",
       "      <td>1</td>\n",
       "      <td>0</td>\n",
       "      <td>0</td>\n",
       "      <td>0</td>\n",
       "      <td>0</td>\n",
       "      <td>No</td>\n",
       "      <td>April</td>\n",
       "      <td>Friday</td>\n",
       "    </tr>\n",
       "  </tbody>\n",
       "</table>\n",
       "</div>"
      ],
      "text/plain": [
       "   AppointmentID Gender          ScheduledDay            AppointmentDay  Age  \\\n",
       "0        5642903      F  2016-04-29T18:38:08Z 2016-04-29 00:00:00+00:00   62   \n",
       "\n",
       "     Neighbourhood Scholarship Hypertension Diabetes Alcoholism Handicap  \\\n",
       "0  JARDIM DA PENHA           0            1        0          0        0   \n",
       "\n",
       "  Sms_received no_show Appointment_Month Appointment_Day  \n",
       "0            0      No             April          Friday  "
      ]
     },
     "execution_count": 13,
     "metadata": {},
     "output_type": "execute_result"
    }
   ],
   "source": [
    "df.head(1)"
   ]
  },
  {
   "cell_type": "code",
   "execution_count": 14,
   "metadata": {},
   "outputs": [
    {
     "data": {
      "text/html": [
       "<div>\n",
       "<style scoped>\n",
       "    .dataframe tbody tr th:only-of-type {\n",
       "        vertical-align: middle;\n",
       "    }\n",
       "\n",
       "    .dataframe tbody tr th {\n",
       "        vertical-align: top;\n",
       "    }\n",
       "\n",
       "    .dataframe thead th {\n",
       "        text-align: right;\n",
       "    }\n",
       "</style>\n",
       "<table border=\"1\" class=\"dataframe\">\n",
       "  <thead>\n",
       "    <tr style=\"text-align: right;\">\n",
       "      <th></th>\n",
       "      <th>AppointmentID</th>\n",
       "      <th>Gender</th>\n",
       "      <th>ScheduledDay</th>\n",
       "      <th>AppointmentDay</th>\n",
       "      <th>Age</th>\n",
       "      <th>Neighbourhood</th>\n",
       "      <th>Scholarship</th>\n",
       "      <th>Hypertension</th>\n",
       "      <th>Diabetes</th>\n",
       "      <th>Alcoholism</th>\n",
       "      <th>Handicap</th>\n",
       "      <th>Sms_received</th>\n",
       "      <th>no_show</th>\n",
       "      <th>Appointment_Month</th>\n",
       "      <th>Appointment_Day</th>\n",
       "    </tr>\n",
       "  </thead>\n",
       "  <tbody>\n",
       "    <tr>\n",
       "      <th>99832</th>\n",
       "      <td>5775010</td>\n",
       "      <td>F</td>\n",
       "      <td>2016-06-06T08:58:13Z</td>\n",
       "      <td>2016-06-06 00:00:00+00:00</td>\n",
       "      <td>-1</td>\n",
       "      <td>ROMÃO</td>\n",
       "      <td>0</td>\n",
       "      <td>0</td>\n",
       "      <td>0</td>\n",
       "      <td>0</td>\n",
       "      <td>0</td>\n",
       "      <td>0</td>\n",
       "      <td>No</td>\n",
       "      <td>June</td>\n",
       "      <td>Monday</td>\n",
       "    </tr>\n",
       "  </tbody>\n",
       "</table>\n",
       "</div>"
      ],
      "text/plain": [
       "       AppointmentID Gender          ScheduledDay            AppointmentDay  \\\n",
       "99832        5775010      F  2016-06-06T08:58:13Z 2016-06-06 00:00:00+00:00   \n",
       "\n",
       "       Age Neighbourhood Scholarship Hypertension Diabetes Alcoholism  \\\n",
       "99832   -1         ROMÃO           0            0        0          0   \n",
       "\n",
       "      Handicap Sms_received no_show Appointment_Month Appointment_Day  \n",
       "99832        0            0      No              June          Monday  "
      ]
     },
     "execution_count": 14,
     "metadata": {},
     "output_type": "execute_result"
    }
   ],
   "source": [
    "#look up nagtive values in the age column\n",
    "\n",
    "\n",
    "df[df['Age']==-1]\n"
   ]
  },
  {
   "cell_type": "code",
   "execution_count": 15,
   "metadata": {},
   "outputs": [],
   "source": [
    "#delete the negative value in the age column\n",
    "df.drop(index = 99832,inplace = True)"
   ]
  },
  {
   "cell_type": "code",
   "execution_count": 16,
   "metadata": {},
   "outputs": [
    {
     "data": {
      "text/html": [
       "<div>\n",
       "<style scoped>\n",
       "    .dataframe tbody tr th:only-of-type {\n",
       "        vertical-align: middle;\n",
       "    }\n",
       "\n",
       "    .dataframe tbody tr th {\n",
       "        vertical-align: top;\n",
       "    }\n",
       "\n",
       "    .dataframe thead th {\n",
       "        text-align: right;\n",
       "    }\n",
       "</style>\n",
       "<table border=\"1\" class=\"dataframe\">\n",
       "  <thead>\n",
       "    <tr style=\"text-align: right;\">\n",
       "      <th></th>\n",
       "      <th>AppointmentID</th>\n",
       "      <th>Gender</th>\n",
       "      <th>ScheduledDay</th>\n",
       "      <th>AppointmentDay</th>\n",
       "      <th>Age</th>\n",
       "      <th>Neighbourhood</th>\n",
       "      <th>Scholarship</th>\n",
       "      <th>Hypertension</th>\n",
       "      <th>Diabetes</th>\n",
       "      <th>Alcoholism</th>\n",
       "      <th>Handicap</th>\n",
       "      <th>Sms_received</th>\n",
       "      <th>no_show</th>\n",
       "      <th>Appointment_Month</th>\n",
       "      <th>Appointment_Day</th>\n",
       "    </tr>\n",
       "  </thead>\n",
       "  <tbody>\n",
       "  </tbody>\n",
       "</table>\n",
       "</div>"
      ],
      "text/plain": [
       "Empty DataFrame\n",
       "Columns: [AppointmentID, Gender, ScheduledDay, AppointmentDay, Age, Neighbourhood, Scholarship, Hypertension, Diabetes, Alcoholism, Handicap, Sms_received, no_show, Appointment_Month, Appointment_Day]\n",
       "Index: []"
      ]
     },
     "execution_count": 16,
     "metadata": {},
     "output_type": "execute_result"
    }
   ],
   "source": [
    "#confirm the negative age value is gone\n",
    "df[df['Age']==-1]"
   ]
  },
  {
   "cell_type": "code",
   "execution_count": 17,
   "metadata": {},
   "outputs": [],
   "source": [
    "# grouping age into 5 different age groups \n",
    "\n",
    "df.loc[df['Age']<=2,'age_bracket']='Babies'\n",
    "df.loc[df['Age'].between(3,16),'age_bracket']='Children'\n",
    "df.loc[df['Age'].between(17,30),'age_bracket']='Young Adults'\n",
    "df.loc[df['Age'].between(31,60),'age_bracket']='Middle_Age'\n",
    "df.loc[df['Age']>61,'age_bracket']='Old'"
   ]
  },
  {
   "cell_type": "code",
   "execution_count": 18,
   "metadata": {},
   "outputs": [],
   "source": [
    "df['showed']=df['no_show'].map({'Yes':0,'No':1})"
   ]
  },
  {
   "cell_type": "code",
   "execution_count": 19,
   "metadata": {
    "scrolled": false
   },
   "outputs": [
    {
     "data": {
      "text/html": [
       "<div>\n",
       "<style scoped>\n",
       "    .dataframe tbody tr th:only-of-type {\n",
       "        vertical-align: middle;\n",
       "    }\n",
       "\n",
       "    .dataframe tbody tr th {\n",
       "        vertical-align: top;\n",
       "    }\n",
       "\n",
       "    .dataframe thead th {\n",
       "        text-align: right;\n",
       "    }\n",
       "</style>\n",
       "<table border=\"1\" class=\"dataframe\">\n",
       "  <thead>\n",
       "    <tr style=\"text-align: right;\">\n",
       "      <th></th>\n",
       "      <th>AppointmentID</th>\n",
       "      <th>Gender</th>\n",
       "      <th>ScheduledDay</th>\n",
       "      <th>AppointmentDay</th>\n",
       "      <th>Age</th>\n",
       "      <th>Neighbourhood</th>\n",
       "      <th>Scholarship</th>\n",
       "      <th>Hypertension</th>\n",
       "      <th>Diabetes</th>\n",
       "      <th>Alcoholism</th>\n",
       "      <th>Handicap</th>\n",
       "      <th>Sms_received</th>\n",
       "      <th>no_show</th>\n",
       "      <th>Appointment_Month</th>\n",
       "      <th>Appointment_Day</th>\n",
       "      <th>age_bracket</th>\n",
       "      <th>showed</th>\n",
       "    </tr>\n",
       "  </thead>\n",
       "  <tbody>\n",
       "    <tr>\n",
       "      <th>0</th>\n",
       "      <td>5642903</td>\n",
       "      <td>F</td>\n",
       "      <td>2016-04-29T18:38:08Z</td>\n",
       "      <td>2016-04-29 00:00:00+00:00</td>\n",
       "      <td>62</td>\n",
       "      <td>JARDIM DA PENHA</td>\n",
       "      <td>0</td>\n",
       "      <td>1</td>\n",
       "      <td>0</td>\n",
       "      <td>0</td>\n",
       "      <td>0</td>\n",
       "      <td>0</td>\n",
       "      <td>No</td>\n",
       "      <td>April</td>\n",
       "      <td>Friday</td>\n",
       "      <td>Old</td>\n",
       "      <td>1</td>\n",
       "    </tr>\n",
       "    <tr>\n",
       "      <th>1</th>\n",
       "      <td>5642503</td>\n",
       "      <td>M</td>\n",
       "      <td>2016-04-29T16:08:27Z</td>\n",
       "      <td>2016-04-29 00:00:00+00:00</td>\n",
       "      <td>56</td>\n",
       "      <td>JARDIM DA PENHA</td>\n",
       "      <td>0</td>\n",
       "      <td>0</td>\n",
       "      <td>0</td>\n",
       "      <td>0</td>\n",
       "      <td>0</td>\n",
       "      <td>0</td>\n",
       "      <td>No</td>\n",
       "      <td>April</td>\n",
       "      <td>Friday</td>\n",
       "      <td>Middle_Age</td>\n",
       "      <td>1</td>\n",
       "    </tr>\n",
       "    <tr>\n",
       "      <th>2</th>\n",
       "      <td>5642549</td>\n",
       "      <td>F</td>\n",
       "      <td>2016-04-29T16:19:04Z</td>\n",
       "      <td>2016-04-29 00:00:00+00:00</td>\n",
       "      <td>62</td>\n",
       "      <td>MATA DA PRAIA</td>\n",
       "      <td>0</td>\n",
       "      <td>0</td>\n",
       "      <td>0</td>\n",
       "      <td>0</td>\n",
       "      <td>0</td>\n",
       "      <td>0</td>\n",
       "      <td>No</td>\n",
       "      <td>April</td>\n",
       "      <td>Friday</td>\n",
       "      <td>Old</td>\n",
       "      <td>1</td>\n",
       "    </tr>\n",
       "    <tr>\n",
       "      <th>3</th>\n",
       "      <td>5642828</td>\n",
       "      <td>F</td>\n",
       "      <td>2016-04-29T17:29:31Z</td>\n",
       "      <td>2016-04-29 00:00:00+00:00</td>\n",
       "      <td>8</td>\n",
       "      <td>PONTAL DE CAMBURI</td>\n",
       "      <td>0</td>\n",
       "      <td>0</td>\n",
       "      <td>0</td>\n",
       "      <td>0</td>\n",
       "      <td>0</td>\n",
       "      <td>0</td>\n",
       "      <td>No</td>\n",
       "      <td>April</td>\n",
       "      <td>Friday</td>\n",
       "      <td>Children</td>\n",
       "      <td>1</td>\n",
       "    </tr>\n",
       "    <tr>\n",
       "      <th>4</th>\n",
       "      <td>5642494</td>\n",
       "      <td>F</td>\n",
       "      <td>2016-04-29T16:07:23Z</td>\n",
       "      <td>2016-04-29 00:00:00+00:00</td>\n",
       "      <td>56</td>\n",
       "      <td>JARDIM DA PENHA</td>\n",
       "      <td>0</td>\n",
       "      <td>1</td>\n",
       "      <td>1</td>\n",
       "      <td>0</td>\n",
       "      <td>0</td>\n",
       "      <td>0</td>\n",
       "      <td>No</td>\n",
       "      <td>April</td>\n",
       "      <td>Friday</td>\n",
       "      <td>Middle_Age</td>\n",
       "      <td>1</td>\n",
       "    </tr>\n",
       "  </tbody>\n",
       "</table>\n",
       "</div>"
      ],
      "text/plain": [
       "   AppointmentID Gender          ScheduledDay            AppointmentDay  Age  \\\n",
       "0        5642903      F  2016-04-29T18:38:08Z 2016-04-29 00:00:00+00:00   62   \n",
       "1        5642503      M  2016-04-29T16:08:27Z 2016-04-29 00:00:00+00:00   56   \n",
       "2        5642549      F  2016-04-29T16:19:04Z 2016-04-29 00:00:00+00:00   62   \n",
       "3        5642828      F  2016-04-29T17:29:31Z 2016-04-29 00:00:00+00:00    8   \n",
       "4        5642494      F  2016-04-29T16:07:23Z 2016-04-29 00:00:00+00:00   56   \n",
       "\n",
       "       Neighbourhood Scholarship Hypertension Diabetes Alcoholism Handicap  \\\n",
       "0    JARDIM DA PENHA           0            1        0          0        0   \n",
       "1    JARDIM DA PENHA           0            0        0          0        0   \n",
       "2      MATA DA PRAIA           0            0        0          0        0   \n",
       "3  PONTAL DE CAMBURI           0            0        0          0        0   \n",
       "4    JARDIM DA PENHA           0            1        1          0        0   \n",
       "\n",
       "  Sms_received no_show Appointment_Month Appointment_Day age_bracket  showed  \n",
       "0            0      No             April          Friday         Old       1  \n",
       "1            0      No             April          Friday  Middle_Age       1  \n",
       "2            0      No             April          Friday         Old       1  \n",
       "3            0      No             April          Friday    Children       1  \n",
       "4            0      No             April          Friday  Middle_Age       1  "
      ]
     },
     "execution_count": 19,
     "metadata": {},
     "output_type": "execute_result"
    }
   ],
   "source": [
    "df.head()"
   ]
  },
  {
   "cell_type": "markdown",
   "metadata": {},
   "source": [
    "<a id='eda'></a>\n",
    "## Exploratory Data Analysis\n",
    "\n",
    "This data will be explored and relationship will be extracted to give detailed information on why Some Patient do not show  up on the days of their  appointments"
   ]
  },
  {
   "cell_type": "code",
   "execution_count": 20,
   "metadata": {},
   "outputs": [
    {
     "data": {
      "image/png": "[encoded data removed]",
      "text/plain": [
       "<Figure size 1296x720 with 4 Axes>"
      ]
     },
     "metadata": {
      "needs_background": "light"
     },
     "output_type": "display_data"
    }
   ],
   "source": [
    "#plot an histogram to display the visuals of all numerical data\n",
    "df.hist(figsize=(18,10),color ='hotpink');"
   ]
  },
  {
   "cell_type": "markdown",
   "metadata": {},
   "source": [
    "From the visualization above , this dataset ranges between months  for the year 2016, the age ranges from 0 to just alittle above hundred. The highest values falls within 0 to 20 years."
   ]
  },
  {
   "cell_type": "code",
   "execution_count": 21,
   "metadata": {},
   "outputs": [],
   "source": [
    "# Writing a function to calculate the percentage of people that showed and those that didnt show\n",
    "def percentage(n):\n",
    "    total = 110527\n",
    "    value =(n/total)*100\n",
    "    return int(value)"
   ]
  },
  {
   "cell_type": "code",
   "execution_count": 22,
   "metadata": {},
   "outputs": [
    {
     "data": {
      "text/plain": [
       "No     88207\n",
       "Yes    22319\n",
       "Name: no_show, dtype: int64"
      ]
     },
     "execution_count": 22,
     "metadata": {},
     "output_type": "execute_result"
    }
   ],
   "source": [
    "#The total number of people showed and people that didnt show \n",
    "\n",
    "df['no_show'].value_counts()"
   ]
  },
  {
   "cell_type": "code",
   "execution_count": 23,
   "metadata": {},
   "outputs": [
    {
     "data": {
      "image/png": "[encoded data removed]",
      "text/plain": [
       "<Figure size 432x288 with 1 Axes>"
      ]
     },
     "metadata": {
      "needs_background": "light"
     },
     "output_type": "display_data"
    }
   ],
   "source": [
    "#creating count plots for the  total number of patients \n",
    "sns.countplot(x='no_show',hue ='no_show',data =df)\n",
    "#plot the y label\n",
    "plt.ylabel('Total number of Patients')\n",
    "#plot the x label\n",
    "plt.xlabel('no of appointment shows')\n",
    "#plot the titel of the visual\n",
    "plt.title('Total number of Patient by appointment')\n",
    "label =['Present','Absent']\n",
    "plt.legend(label);\n"
   ]
  },
  {
   "cell_type": "code",
   "execution_count": 24,
   "metadata": {},
   "outputs": [
    {
     "data": {
      "text/plain": [
       "79"
      ]
     },
     "execution_count": 24,
     "metadata": {},
     "output_type": "execute_result"
    }
   ],
   "source": [
    "percentage(88208)"
   ]
  },
  {
   "cell_type": "markdown",
   "metadata": {},
   "source": [
    "From my observation of the visual above, a total number of 88208 patients which makes up of **79%** of the total patient showed up for their appointments , and **21%** who didnt attend.\n",
    "\n",
    "Exploring further to know why these patients do not turnup for their appoinments "
   ]
  },
  {
   "cell_type": "markdown",
   "metadata": {},
   "source": [
    "## Research Question 1: Does Gender Affect showing up for Appointment?"
   ]
  },
  {
   "cell_type": "code",
   "execution_count": 25,
   "metadata": {
    "scrolled": true
   },
   "outputs": [
    {
     "data": {
      "text/plain": [
       "F    71839\n",
       "M    38687\n",
       "Name: Gender, dtype: int64"
      ]
     },
     "execution_count": 25,
     "metadata": {},
     "output_type": "execute_result"
    }
   ],
   "source": [
    "#calculating the total gender count\n",
    "\n",
    "df['Gender'].value_counts()"
   ]
  },
  {
   "cell_type": "code",
   "execution_count": 26,
   "metadata": {},
   "outputs": [
    {
     "data": {
      "text/plain": [
       "64"
      ]
     },
     "execution_count": 26,
     "metadata": {},
     "output_type": "execute_result"
    }
   ],
   "source": [
    "#percentage of the female gender\n",
    "percentage(71840)"
   ]
  },
  {
   "cell_type": "code",
   "execution_count": 27,
   "metadata": {},
   "outputs": [
    {
     "data": {
      "image/png": "[encoded data removed]",
      "text/plain": [
       "<Figure size 432x288 with 1 Axes>"
      ]
     },
     "metadata": {
      "needs_background": "light"
     },
     "output_type": "display_data"
    }
   ],
   "source": [
    "#plotting  a bar graph of the total numnber of female and male patients\n",
    "\n",
    "df['Gender'].value_counts().plot(kind ='bar',color =['hotpink','blue'])\n",
    "# plotting title of the graph\n",
    "plt.title('Total Number of Male and Female Patients')\n",
    "#plotting the x-axis label\n",
    "plt.xlabel(\"Gender\")\n",
    "#plotting the y-axis label\n",
    "plt.ylabel('Number of Patients');"
   ]
  },
  {
   "cell_type": "markdown",
   "metadata": {},
   "source": [
    "These visualization tells us that there are a total ratio of **64%** of the total patients were female **36%** males"
   ]
  },
  {
   "cell_type": "code",
   "execution_count": 28,
   "metadata": {},
   "outputs": [
    {
     "data": {
      "text/plain": [
       "Gender  no_show\n",
       "F       No         57245\n",
       "        Yes        14594\n",
       "M       No         30962\n",
       "        Yes         7725\n",
       "Name: no_show, dtype: int64"
      ]
     },
     "execution_count": 28,
     "metadata": {},
     "output_type": "execute_result"
    }
   ],
   "source": [
    "#calculating the total gender count against the number of patients that showed up for the appointment\n",
    "\n",
    "df.groupby('Gender')['no_show'].value_counts()"
   ]
  },
  {
   "cell_type": "code",
   "execution_count": 29,
   "metadata": {},
   "outputs": [
    {
     "data": {
      "text/plain": [
       "51"
      ]
     },
     "execution_count": 29,
     "metadata": {},
     "output_type": "execute_result"
    }
   ],
   "source": [
    "#calculating the female percentage for those that showed up\n",
    "percentage(57246)"
   ]
  },
  {
   "cell_type": "code",
   "execution_count": 30,
   "metadata": {
    "scrolled": true
   },
   "outputs": [
    {
     "data": {
      "image/png": "[encoded data removed]",
      "text/plain": [
       "<Figure size 432x288 with 1 Axes>"
      ]
     },
     "metadata": {
      "needs_background": "light"
     },
     "output_type": "display_data"
    }
   ],
   "source": [
    "#plotting a countplot for patients that showed up for their appointment by gender\n",
    "sns.countplot(x='no_show',hue ='Gender',data =df)\n",
    "#plotting the y label\n",
    "plt.ylabel('Total number of Patients')\n",
    "#plotting the x label\n",
    "plt.xlabel('Show or No show')\n",
    "#plotting the title of the visual\n",
    "plt.title('Total number of Patient by Gender')\n",
    "label =['F','M']\n",
    "plt.legend(label);\n"
   ]
  },
  {
   "cell_type": "markdown",
   "metadata": {},
   "source": [
    "From the visualization above, **28%** of the Male show up for their appointment and **51%**Female showed up for their appointment too.\n",
    "But, there are also higher number of females not showing up aswell for their appoinments"
   ]
  },
  {
   "cell_type": "markdown",
   "metadata": {},
   "source": [
    "## Research Question 2:  Does Scholarship affect  showing  up for Appointment\n"
   ]
  },
  {
   "cell_type": "code",
   "execution_count": 31,
   "metadata": {},
   "outputs": [
    {
     "data": {
      "text/plain": [
       "0    99665\n",
       "1    10861\n",
       "Name: Scholarship, dtype: int64"
      ]
     },
     "execution_count": 31,
     "metadata": {},
     "output_type": "execute_result"
    }
   ],
   "source": [
    "#calculating the total scholarship count\n",
    "df['Scholarship'].value_counts()"
   ]
  },
  {
   "cell_type": "code",
   "execution_count": 32,
   "metadata": {},
   "outputs": [
    {
     "data": {
      "text/plain": [
       "9"
      ]
     },
     "execution_count": 32,
     "metadata": {},
     "output_type": "execute_result"
    }
   ],
   "source": [
    "percentage(10861)"
   ]
  },
  {
   "cell_type": "code",
   "execution_count": 33,
   "metadata": {},
   "outputs": [
    {
     "data": {
      "image/png": "[encoded data removed]",
      "text/plain": [
       "<Figure size 432x288 with 1 Axes>"
      ]
     },
     "metadata": {
      "needs_background": "light"
     },
     "output_type": "display_data"
    }
   ],
   "source": [
    "#plotting  a bar graph of the total number of scholarships\n",
    "df['Scholarship'].value_counts().plot(kind ='bar',color =['hotpink','blue'])\n",
    "#plot the title pf the visual\n",
    "plt.title('Total Number of Patient with Scholarship')\n",
    "#plot the x label\n",
    "plt.xlabel(\"Scholarship\")\n",
    "#plot the y label\n",
    "plt.ylabel('Number of Patients')\n",
    "plt.xticks([0,1],['No','Yes']);"
   ]
  },
  {
   "cell_type": "markdown",
   "metadata": {},
   "source": [
    "These visualization tells us that **9%** of the Patients were offered health scholarship "
   ]
  },
  {
   "cell_type": "code",
   "execution_count": 34,
   "metadata": {
    "scrolled": true
   },
   "outputs": [
    {
     "data": {
      "image/png": "[encoded data removed]",
      "text/plain": [
       "<Figure size 432x288 with 1 Axes>"
      ]
     },
     "metadata": {
      "needs_background": "light"
     },
     "output_type": "display_data"
    }
   ],
   "source": [
    "#plotting a countplot for patients that showed up for their appointment by scholarship\n",
    "sns.countplot(x='no_show',hue ='Scholarship',data =df)\n",
    "#plotting the ylabel\n",
    "plt.ylabel('Total number of Patients')\n",
    "#plotting the x label\n",
    "plt.xlabel('Show or No show')\n",
    "#plotting the title of the visual\n",
    "plt.title('Total number of Patient by Scholarship')\n",
    "label =['Yes','No']\n",
    "plt.legend(label);"
   ]
  },
  {
   "cell_type": "code",
   "execution_count": 35,
   "metadata": {},
   "outputs": [
    {
     "data": {
      "text/plain": [
       "Scholarship  no_show\n",
       "0            No         79924\n",
       "             Yes        19741\n",
       "1            No          8283\n",
       "             Yes         2578\n",
       "Name: no_show, dtype: int64"
      ]
     },
     "execution_count": 35,
     "metadata": {},
     "output_type": "execute_result"
    }
   ],
   "source": [
    "df.groupby('Scholarship')['no_show'].value_counts()"
   ]
  },
  {
   "cell_type": "markdown",
   "metadata": {},
   "source": [
    "From the visualization above the number of patients that got scholarship tends to show up more for their appointments  than patients who were not  given scholarship.\n",
    "\n",
    "I can conclude that if more health scholarships are given to patients more patients will turn up their  medical apppointment."
   ]
  },
  {
   "cell_type": "markdown",
   "metadata": {},
   "source": [
    "##  Research Question 3: Does Receiving Sms notification affect showing up for appointment?\n"
   ]
  },
  {
   "cell_type": "code",
   "execution_count": 36,
   "metadata": {},
   "outputs": [
    {
     "data": {
      "text/plain": [
       "0    75044\n",
       "1    35482\n",
       "Name: Sms_received, dtype: int64"
      ]
     },
     "execution_count": 36,
     "metadata": {},
     "output_type": "execute_result"
    }
   ],
   "source": [
    "df['Sms_received'].value_counts()"
   ]
  },
  {
   "cell_type": "code",
   "execution_count": 37,
   "metadata": {},
   "outputs": [
    {
     "data": {
      "text/plain": [
       "32"
      ]
     },
     "execution_count": 37,
     "metadata": {},
     "output_type": "execute_result"
    }
   ],
   "source": [
    "percentage(35482)"
   ]
  },
  {
   "cell_type": "code",
   "execution_count": 38,
   "metadata": {},
   "outputs": [
    {
     "data": {
      "image/png": "[encoded data removed]",
      "text/plain": [
       "<Figure size 432x288 with 1 Axes>"
      ]
     },
     "metadata": {
      "needs_background": "light"
     },
     "output_type": "display_data"
    }
   ],
   "source": [
    "\n",
    "df['Sms_received'].value_counts().plot(kind ='bar',color =['hotpink','blue'])#plotting  a bar graph of the total numnber of female and male patientsdf['Sms_received'].value_counts().plot(kind ='bar',color =['hotpink','blue'])\n",
    "plt.title('Total Number of Patient by Sms_received')\n",
    "#plotting the x label\n",
    "plt.xlabel(\"Sms_received\")\n",
    "#plotting the y label\n",
    "plt.ylabel('Number of Patients')\n",
    "plt.xticks([0,1],['No','Yes']);"
   ]
  },
  {
   "cell_type": "markdown",
   "metadata": {},
   "source": [
    "Only **32%** of the total number of patients receives sms notification to remind them about their appointment **67%** were not reminded about their appointment . That fracton of population is quite low "
   ]
  },
  {
   "cell_type": "code",
   "execution_count": 39,
   "metadata": {},
   "outputs": [
    {
     "data": {
      "image/png": "[encoded data removed]",
      "text/plain": [
       "<Figure size 432x288 with 1 Axes>"
      ]
     },
     "metadata": {
      "needs_background": "light"
     },
     "output_type": "display_data"
    }
   ],
   "source": [
    "#plotting a countplot for patients that showed up for their appointment by Sms_received\n",
    "sns.countplot(x='no_show',hue ='Sms_received',data =df)\n",
    "#plotting the y label\n",
    "plt.ylabel('Total number of Patients')\n",
    "#plotting the x label\n",
    "plt.xlabel('Sms')\n",
    "#plotting the title of the visual\n",
    "plt.title('Total number of Patient by Sms_received')\n",
    "label =['Yes','No']\n",
    "plt.legend(label);"
   ]
  },
  {
   "cell_type": "markdown",
   "metadata": {},
   "source": [
    "From the visualization above, the patients that got Sms notification showed up fo their appointment more than those who didnt get the sms notification\n",
    "\n",
    "If more notifications are sent to the patients, these might prompt them to remember to show up for their appointments more \n"
   ]
  },
  {
   "cell_type": "markdown",
   "metadata": {},
   "source": [
    "## Research Question 4:Does Age affect showing up for Appointment?"
   ]
  },
  {
   "cell_type": "code",
   "execution_count": 40,
   "metadata": {},
   "outputs": [
    {
     "data": {
      "text/plain": [
       "3"
      ]
     },
     "execution_count": 40,
     "metadata": {},
     "output_type": "execute_result"
    }
   ],
   "source": [
    "percentage(3539)"
   ]
  },
  {
   "cell_type": "code",
   "execution_count": 41,
   "metadata": {},
   "outputs": [
    {
     "data": {
      "image/png": "[encoded data removed]",
      "text/plain": [
       "<Figure size 432x288 with 1 Axes>"
      ]
     },
     "metadata": {
      "needs_background": "light"
     },
     "output_type": "display_data"
    }
   ],
   "source": [
    "#creating boxplot for age distribution\n",
    "df['Age'].plot(kind = 'box')\n",
    "plt.ylabel('Age_bracket')\n",
    "\n",
    "#this displaya title\n",
    "plt.title('Age Distribution');"
   ]
  },
  {
   "cell_type": "code",
   "execution_count": 42,
   "metadata": {},
   "outputs": [
    {
     "data": {
      "image/png": "[encoded data removed]",
      "text/plain": [
       "<Figure size 432x288 with 1 Axes>"
      ]
     },
     "metadata": {
      "needs_background": "light"
     },
     "output_type": "display_data"
    }
   ],
   "source": [
    "df['Age'].hist(color = 'hotpink')\n",
    "plt.xlabel('Age');"
   ]
  },
  {
   "cell_type": "code",
   "execution_count": 43,
   "metadata": {},
   "outputs": [
    {
     "data": {
      "image/png": "[encoded data removed]",
      "text/plain": [
       "<Figure size 432x288 with 1 Axes>"
      ]
     },
     "metadata": {
      "needs_background": "light"
     },
     "output_type": "display_data"
    }
   ],
   "source": [
    "#plotting a countplot for patients that showed up for their appointment by Age\n",
    "sns.countplot(x='no_show',hue ='age_bracket',data =df)\n",
    "#plotting the y label\n",
    "plt.ylabel('Total number of Patients')\n",
    "#plotting the x label\n",
    "plt.xlabel('Age bracket')\n",
    "#plotting the title of the visual\n",
    "plt.title('Total number of Patient by Age')\n",
    "plt.legend();"
   ]
  },
  {
   "cell_type": "markdown",
   "metadata": {},
   "source": [
    "From the Analysis above, **3%** of the patients are babies.Patients fron the  the Middle Age Bracket goes for their hospital appointments.The patients with ages 0-2 less frequently meets up for their appointments\n",
    "\n",
    "These could be as a result of the busy schedule of their parents or guardians."
   ]
  },
  {
   "cell_type": "markdown",
   "metadata": {},
   "source": [
    "## Research Question 4:Does the day of the week affect showing up for appointment? "
   ]
  },
  {
   "cell_type": "code",
   "execution_count": 44,
   "metadata": {
    "scrolled": true
   },
   "outputs": [
    {
     "data": {
      "text/plain": [
       "Wednesday    25867\n",
       "Tuesday      25640\n",
       "Monday       22714\n",
       "Friday       19019\n",
       "Thursday     17247\n",
       "Saturday        39\n",
       "Name: Appointment_Day, dtype: int64"
      ]
     },
     "execution_count": 44,
     "metadata": {},
     "output_type": "execute_result"
    }
   ],
   "source": [
    "#value count\n",
    "df.Appointment_Day.value_counts()"
   ]
  },
  {
   "cell_type": "code",
   "execution_count": 45,
   "metadata": {},
   "outputs": [
    {
     "data": {
      "text/plain": [
       "23"
      ]
     },
     "execution_count": 45,
     "metadata": {},
     "output_type": "execute_result"
    }
   ],
   "source": [
    "percentage(25867)"
   ]
  },
  {
   "cell_type": "code",
   "execution_count": 46,
   "metadata": {
    "scrolled": true
   },
   "outputs": [
    {
     "data": {
      "image/png": "[encoded data removed]",
      "text/plain": [
       "<Figure size 432x288 with 1 Axes>"
      ]
     },
     "metadata": {
      "needs_background": "light"
     },
     "output_type": "display_data"
    }
   ],
   "source": [
    "df['Appointment_Day'].value_counts().plot();"
   ]
  },
  {
   "cell_type": "code",
   "execution_count": 47,
   "metadata": {},
   "outputs": [
    {
     "data": {
      "image/png": "[encoded data removed]",
      "text/plain": [
       "<Figure size 432x288 with 1 Axes>"
      ]
     },
     "metadata": {
      "needs_background": "light"
     },
     "output_type": "display_data"
    }
   ],
   "source": [
    "#plotting a countplot for patients that showed up for their appointment by days\n",
    "sns.countplot(x='no_show',hue ='Appointment_Day',data =df)\n",
    "#plot the y label\n",
    "plt.ylabel('Total number of Patients')\n",
    "#plot the x label\n",
    "plt.xlabel('Show or No show')\n",
    "#plot the title of the visual\n",
    "plt.title('Total number of Patient by WeekDays')\n",
    "plt.legend();\n"
   ]
  },
  {
   "cell_type": "markdown",
   "metadata": {},
   "source": [
    "The visualization above shows that **23%** Patients turn up for appointment on Wedneday and Tuesday. There is also very low show up on Thursday's. There is no record of Patients on  Saturday has the least turn up day\n"
   ]
  },
  {
   "cell_type": "code",
   "execution_count": 48,
   "metadata": {},
   "outputs": [
    {
     "data": {
      "image/png": "[encoded data removed]",
      "text/plain": [
       "<Figure size 432x288 with 1 Axes>"
      ]
     },
     "metadata": {
      "needs_background": "light"
     },
     "output_type": "display_data"
    }
   ],
   "source": [
    "df['Appointment_Month'].value_counts().plot();"
   ]
  },
  {
   "cell_type": "code",
   "execution_count": 49,
   "metadata": {},
   "outputs": [
    {
     "data": {
      "image/png": "[encoded data removed]",
      "text/plain": [
       "<Figure size 432x288 with 1 Axes>"
      ]
     },
     "metadata": {
      "needs_background": "light"
     },
     "output_type": "display_data"
    }
   ],
   "source": [
    "#plotting a countplot for patients that showed up for their appointment by Month\n",
    "sns.countplot(x='no_show',hue ='Appointment_Month',data =df)\n",
    "#plot the y label\n",
    "plt.ylabel('Total number of Patients')\n",
    "#plot the x label\n",
    "plt.xlabel('Show or No show')\n",
    "#plot the title of the visual\n",
    "plt.title('Total number of Patient by Month')\n",
    "plt.legend();\n"
   ]
  },
  {
   "cell_type": "code",
   "execution_count": 50,
   "metadata": {
    "scrolled": true
   },
   "outputs": [
    {
     "data": {
      "image/png": "[encoded data removed]",
      "text/plain": [
       "<Figure size 432x288 with 1 Axes>"
      ]
     },
     "metadata": {
      "needs_background": "light"
     },
     "output_type": "display_data"
    }
   ],
   "source": [
    "df['Age'].hist(color = 'hotpink')\n",
    "plt.ylabel('Number of Patients')\n",
    "plt.xlabel('Age');"
   ]
  },
  {
   "cell_type": "markdown",
   "metadata": {},
   "source": [
    "<a id='conclusions'></a>\n",
    "## Conclusions\n",
    "After carefully, cleaning and analyzing the data, I came to a conclusion that there are more Female than male in this Dataset.\n",
    "There are also 4 different kinds of Patients ( Diabetic, Hypertensive, Alcoholic and the Handicap). There are More Hypertesnsive Patient in the Dataset.\n",
    "\n",
    "1.The Gender does not affect the rate of show up on appointment day as there was no significant difference found between both genders.\n",
    "\n",
    "2.The patients that were granted Health scholarship turne up more for thei appoinment better than those who have to pay their hospital bills by themselves.\n",
    "\n",
    "3.The Middle age turned up more for their appointment compared to other age groups.\n",
    "\n",
    "4.Those patient that received sms notification prior their appointment day turned up more than their counterparts.\n",
    "\n",
    "\n",
    "\n",
    "\n"
   ]
  },
  {
   "cell_type": "markdown",
   "metadata": {},
   "source": [
    "## Limitations\n",
    "The dataset is for just a short perod of three month so our analysis can\"t be very precise "
   ]
  },
  {
   "cell_type": "code",
   "execution_count": null,
   "metadata": {},
   "outputs": [],
   "source": []
  }
 ],
 "metadata": {
  "kernelspec": {
   "display_name": "Python 3 (ipykernel)",
   "language": "python",
   "name": "python3"
  },
  "language_info": {
   "codemirror_mode": {
    "name": "ipython",
    "version": 3
   },
   "file_extension": ".py",
   "mimetype": "text/x-python",
   "name": "python",
   "nbconvert_exporter": "python",
   "pygments_lexer": "ipython3",
   "version": "3.9.12"
  }
 },
 "nbformat": 4,
 "nbformat_minor": 2
}
