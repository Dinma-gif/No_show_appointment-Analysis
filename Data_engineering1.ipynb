{
  "cells": [
    {
      "cell_type": "markdown",
      "metadata": {
        "id": "view-in-github",
        "colab_type": "text"
      },
      "source": [
        "<a href=\"https://colab.research.google.com/github/Dinma-gif/No_show_appointment-Analysis/blob/main/Data_engineering1.ipynb\" target=\"_parent\"><img src=\"https://colab.research.google.com/assets/colab-badge.svg\" alt=\"Open In Colab\"/></a>"
      ]
    },
    {
      "cell_type": "code",
      "execution_count": 3,
      "metadata": {
        "id": "wa9I94NQVp19",
        "colab": {
          "base_uri": "https://localhost:8080/"
        },
        "outputId": "eb89fadd-064d-4d89-8c7a-ac77a8137d07"
      },
      "outputs": [
        {
          "output_type": "stream",
          "name": "stdout",
          "text": [
            "Requirement already satisfied: faker in /usr/local/lib/python3.10/dist-packages (33.3.0)\n",
            "Requirement already satisfied: python-dateutil>=2.4 in /usr/local/lib/python3.10/dist-packages (from faker) (2.8.2)\n",
            "Requirement already satisfied: typing-extensions in /usr/local/lib/python3.10/dist-packages (from faker) (4.12.2)\n",
            "Requirement already satisfied: six>=1.5 in /usr/local/lib/python3.10/dist-packages (from python-dateutil>=2.4->faker) (1.17.0)\n",
            "Requirement already satisfied: elasticsearch in /usr/local/lib/python3.10/dist-packages (8.17.0)\n",
            "Requirement already satisfied: elastic-transport<9,>=8.15.1 in /usr/local/lib/python3.10/dist-packages (from elasticsearch) (8.17.0)\n",
            "Requirement already satisfied: urllib3<3,>=1.26.2 in /usr/local/lib/python3.10/dist-packages (from elastic-transport<9,>=8.15.1->elasticsearch) (2.3.0)\n",
            "Requirement already satisfied: certifi in /usr/local/lib/python3.10/dist-packages (from elastic-transport<9,>=8.15.1->elasticsearch) (2024.12.14)\n"
          ]
        }
      ],
      "source": [
        "!pip install faker\n",
        "!pip install elasticsearch\n"
      ]
    },
    {
      "cell_type": "markdown",
      "source": [
        "#Inserting and extracting NoSQL database data in Python\n",
        "\n",
        "Relational databases may be what you think of when you hear the term database, but\n",
        "there are several other types of databases, such as columnar, key-value, and time-series.\n",
        "In this section, you will learn how to work with Elasticsearch, which is a NoSQL database.\n",
        "NoSQL is a generic term referring to databases that do not store data in rows and columns.\n",
        "NoSQL databases often store their data as JSON documents and use a query language other\n",
        "than SQL. The next section will teach you how to load data into Elasticsearch."
      ],
      "metadata": {
        "id": "rqQpYG3erGjH"
      }
    },
    {
      "cell_type": "markdown",
      "source": [
        "## Inserting data using helpers\n",
        "Using the bulk methis, you can insert many documents at a time. The process is similar to inserting a single record, except that you will generate all the data, then insert it."
      ],
      "metadata": {
        "id": "OjMOSmjNpEl7"
      }
    },
    {
      "cell_type": "markdown",
      "source": [],
      "metadata": {
        "id": "Np_v-zHDrEC-"
      }
    },
    {
      "cell_type": "code",
      "source": [
        "from faker import Faker\n",
        "from elasticsearch import Elasticsearch, helpers\n",
        "\n",
        "# Initialize Faker Instance\n",
        "fake = Faker()\n",
        "\n",
        "# Initialize the Elasticsearch client\n",
        "es = Elasticsearch(#connection#)\n",
        "\n",
        "# Prepare the list of actions for the bulk insert\n",
        "#The data needs to be an array of JSON objects. You must identify the index and the type. Underscores in the names are used for Elasticsearch fields. The _source field is where you would put the JSON document that you want to insert in the database.\n",
        "\n",
        "actions = [\n",
        "    {\n",
        "        \"_op_type\": \"index\",  # Action type, you can use \"index\" or \"create\"\n",
        "        \"_index\": \"fake_data\",  # Your index name\n",
        "        \"_id\": fake.uuid4(),  # Unique ID for each document\n",
        "        \"_source\": {\n",
        "            \"name\": fake.name(),\n",
        "            \"street\": fake.street_address(),\n",
        "            \"city\": fake.city(),\n",
        "            \"state\": fake.state(),\n",
        "            \"zip\": fake.zipcode()\n",
        "        }\n",
        "    }\n",
        "    for _ in range(998)  # Loop 998 times to create 998 documents\n",
        "]\n",
        "\n",
        "# Perform the bulk insert operation\n",
        "success, failed = helpers.bulk(es, actions)\n",
        "\n",
        "# Print the result\n",
        "print(f\"Successfully indexed {success} documents.\")\n",
        "print(f\"Failed to index {failed} documents.\")\n"
      ],
      "metadata": {
        "id": "5dzoweuAUcGw",
        "colab": {
          "base_uri": "https://localhost:8080/"
        },
        "outputId": "02115e20-5725-42b4-c38b-d989ca2898a1"
      },
      "execution_count": 4,
      "outputs": [
        {
          "output_type": "stream",
          "name": "stdout",
          "text": [
            "Successfully indexed 998 documents.\n",
            "Failed to index [] documents.\n"
          ]
        }
      ]
    },
    {
      "cell_type": "markdown",
      "source": [
        "Create a JSON object to send to Elasttic. The object is a query, using the match_all search."
      ],
      "metadata": {
        "id": "agWp2H8PopDZ"
      }
    },
    {
      "cell_type": "code",
      "source": [
        "doc={\"query\":{\"match_all\":{}}}"
      ],
      "metadata": {
        "id": "nV9oJhPIco36"
      },
      "execution_count": 6,
      "outputs": []
    },
    {
      "cell_type": "markdown",
      "source": [
        "Now, you can call the bulk method and pass it the elasticsearch instance and the array of data. You can print the results to check that it worked."
      ],
      "metadata": {
        "id": "-pNsEjEwqTLF"
      }
    },
    {
      "cell_type": "code",
      "source": [
        "res=es.search(index=\"fake_data\",body=doc)\n",
        "print(res['hits']['hits'])"
      ],
      "metadata": {
        "colab": {
          "base_uri": "https://localhost:8080/"
        },
        "id": "gXlHQYPnn3lT",
        "outputId": "b0461e4a-3d48-460e-8620-382dede2cb14"
      },
      "execution_count": 7,
      "outputs": [
        {
          "output_type": "stream",
          "name": "stdout",
          "text": [
            "[{'_index': 'fake_data', '_id': 'cqheTJQBpVBMzcXIuj6T', '_score': 1.0, '_source': {'name': 'Christian Holloway', 'street': '859 Kimberly Ridge Suite 223', 'city': 'South Dannyhaven', 'state': 'Hawaii', 'zip': '78523'}}, {'_index': 'fake_data', '_id': 'c06b35fe-0ecf-40a5-9184-8aa98f32625f', '_score': 1.0, '_source': {'name': 'Mrs. Rachel Smith', 'street': '087 Mack Coves', 'city': 'Lindaburgh', 'state': 'Vermont', 'zip': '19482'}}, {'_index': 'fake_data', '_id': 'ce616cea-733e-4888-915c-08bd896ee509', '_score': 1.0, '_source': {'name': 'John Hendrix', 'street': '81666 Amber Prairie Apt. 402', 'city': 'North Ryan', 'state': 'Minnesota', 'zip': '42677'}}, {'_index': 'fake_data', '_id': '16b859c9-0698-4881-8621-db5bbb30e6ca', '_score': 1.0, '_source': {'name': 'Angela Vargas', 'street': '936 Cynthia Mill', 'city': 'Mooreshire', 'state': 'Alaska', 'zip': '99163'}}, {'_index': 'fake_data', '_id': '0512d0ae-ed2e-425e-8708-98c340727533', '_score': 1.0, '_source': {'name': 'Erika Pineda', 'street': '09238 Simon Well', 'city': 'New Glennhaven', 'state': 'Hawaii', 'zip': '75814'}}, {'_index': 'fake_data', '_id': 'e6828f5f-424f-4d41-9cd1-77370fa11da4', '_score': 1.0, '_source': {'name': 'Jessica Zimmerman', 'street': '2805 Rodriguez Dale', 'city': 'Jenniferton', 'state': 'South Dakota', 'zip': '20231'}}, {'_index': 'fake_data', '_id': '2762cc56-254a-4071-a11e-a6c96ad18cab', '_score': 1.0, '_source': {'name': 'Cameron Bowers', 'street': '2318 Rachael Ranch', 'city': 'Lake Aprilhaven', 'state': 'Minnesota', 'zip': '43280'}}, {'_index': 'fake_data', '_id': '36659ef4-ae1d-44af-965b-f231907bbb05', '_score': 1.0, '_source': {'name': 'Regina Garcia', 'street': '674 Clark Green', 'city': 'East Leslie', 'state': 'Iowa', 'zip': '44494'}}, {'_index': 'fake_data', '_id': '0b854a2d-baeb-4166-a46c-248c6147271a', '_score': 1.0, '_source': {'name': 'Thomas Maynard', 'street': '583 Dean Manor', 'city': 'New Victoriaview', 'state': 'Kansas', 'zip': '29776'}}, {'_index': 'fake_data', '_id': 'eba36fad-d3fd-4cb2-a5ab-f434ed485956', '_score': 1.0, '_source': {'name': 'Thomas Cooper', 'street': '56077 Pitts Landing', 'city': 'Kingview', 'state': 'Texas', 'zip': '25728'}}]\n"
          ]
        }
      ]
    },
    {
      "cell_type": "markdown",
      "source": [],
      "metadata": {
        "id": "ZBiuvqmLq8Rm"
      }
    },
    {
      "cell_type": "code",
      "source": [
        "for doc in res['hits']['hits']:\n",
        "    print(doc['_source'])"
      ],
      "metadata": {
        "colab": {
          "base_uri": "https://localhost:8080/"
        },
        "id": "nlIvnM0loLOe",
        "outputId": "9c5adae2-7d8e-4c7b-ef2c-4f53917d060e"
      },
      "execution_count": 8,
      "outputs": [
        {
          "output_type": "stream",
          "name": "stdout",
          "text": [
            "{'name': 'Christian Holloway', 'street': '859 Kimberly Ridge Suite 223', 'city': 'South Dannyhaven', 'state': 'Hawaii', 'zip': '78523'}\n",
            "{'name': 'Mrs. Rachel Smith', 'street': '087 Mack Coves', 'city': 'Lindaburgh', 'state': 'Vermont', 'zip': '19482'}\n",
            "{'name': 'John Hendrix', 'street': '81666 Amber Prairie Apt. 402', 'city': 'North Ryan', 'state': 'Minnesota', 'zip': '42677'}\n",
            "{'name': 'Angela Vargas', 'street': '936 Cynthia Mill', 'city': 'Mooreshire', 'state': 'Alaska', 'zip': '99163'}\n",
            "{'name': 'Erika Pineda', 'street': '09238 Simon Well', 'city': 'New Glennhaven', 'state': 'Hawaii', 'zip': '75814'}\n",
            "{'name': 'Jessica Zimmerman', 'street': '2805 Rodriguez Dale', 'city': 'Jenniferton', 'state': 'South Dakota', 'zip': '20231'}\n",
            "{'name': 'Cameron Bowers', 'street': '2318 Rachael Ranch', 'city': 'Lake Aprilhaven', 'state': 'Minnesota', 'zip': '43280'}\n",
            "{'name': 'Regina Garcia', 'street': '674 Clark Green', 'city': 'East Leslie', 'state': 'Iowa', 'zip': '44494'}\n",
            "{'name': 'Thomas Maynard', 'street': '583 Dean Manor', 'city': 'New Victoriaview', 'state': 'Kansas', 'zip': '29776'}\n",
            "{'name': 'Thomas Cooper', 'street': '56077 Pitts Landing', 'city': 'Kingview', 'state': 'Texas', 'zip': '25728'}\n"
          ]
        }
      ]
    },
    {
      "cell_type": "markdown",
      "source": [
        "You can load the results of the query into a pandas DataFrame- it is JSON, and you learned how to read JSON ealier. The import json_normalize from the pandas json library, and use it(json_normalize) on the JSON results\n"
      ],
      "metadata": {
        "id": "tzBMchXUs41c"
      }
    },
    {
      "cell_type": "code",
      "source": [
        "from pandas import json_normalize\n",
        "import pandas as pd\n",
        "df=json_normalize(res['hits']['hits'])\n",
        "df.head()"
      ],
      "metadata": {
        "colab": {
          "base_uri": "https://localhost:8080/",
          "height": 206
        },
        "id": "W0CqMdvdtEin",
        "outputId": "85a2c848-f655-436b-c64e-105707813b66"
      },
      "execution_count": 9,
      "outputs": [
        {
          "output_type": "execute_result",
          "data": {
            "text/plain": [
              "      _index                                   _id  _score  \\\n",
              "0  fake_data                  cqheTJQBpVBMzcXIuj6T     1.0   \n",
              "1  fake_data  c06b35fe-0ecf-40a5-9184-8aa98f32625f     1.0   \n",
              "2  fake_data  ce616cea-733e-4888-915c-08bd896ee509     1.0   \n",
              "3  fake_data  16b859c9-0698-4881-8621-db5bbb30e6ca     1.0   \n",
              "4  fake_data  0512d0ae-ed2e-425e-8708-98c340727533     1.0   \n",
              "\n",
              "         _source.name                _source.street      _source.city  \\\n",
              "0  Christian Holloway  859 Kimberly Ridge Suite 223  South Dannyhaven   \n",
              "1   Mrs. Rachel Smith                087 Mack Coves        Lindaburgh   \n",
              "2        John Hendrix  81666 Amber Prairie Apt. 402        North Ryan   \n",
              "3       Angela Vargas              936 Cynthia Mill        Mooreshire   \n",
              "4        Erika Pineda              09238 Simon Well    New Glennhaven   \n",
              "\n",
              "  _source.state _source.zip  \n",
              "0        Hawaii       78523  \n",
              "1       Vermont       19482  \n",
              "2     Minnesota       42677  \n",
              "3        Alaska       99163  \n",
              "4        Hawaii       75814  "
            ],
            "text/html": [
              "\n",
              "  <div id=\"df-799be2c1-d0c0-47ac-8036-4aa80071959f\" class=\"colab-df-container\">\n",
              "    <div>\n",
              "<style scoped>\n",
              "    .dataframe tbody tr th:only-of-type {\n",
              "        vertical-align: middle;\n",
              "    }\n",
              "\n",
              "    .dataframe tbody tr th {\n",
              "        vertical-align: top;\n",
              "    }\n",
              "\n",
              "    .dataframe thead th {\n",
              "        text-align: right;\n",
              "    }\n",
              "</style>\n",
              "<table border=\"1\" class=\"dataframe\">\n",
              "  <thead>\n",
              "    <tr style=\"text-align: right;\">\n",
              "      <th></th>\n",
              "      <th>_index</th>\n",
              "      <th>_id</th>\n",
              "      <th>_score</th>\n",
              "      <th>_source.name</th>\n",
              "      <th>_source.street</th>\n",
              "      <th>_source.city</th>\n",
              "      <th>_source.state</th>\n",
              "      <th>_source.zip</th>\n",
              "    </tr>\n",
              "  </thead>\n",
              "  <tbody>\n",
              "    <tr>\n",
              "      <th>0</th>\n",
              "      <td>fake_data</td>\n",
              "      <td>cqheTJQBpVBMzcXIuj6T</td>\n",
              "      <td>1.0</td>\n",
              "      <td>Christian Holloway</td>\n",
              "      <td>859 Kimberly Ridge Suite 223</td>\n",
              "      <td>South Dannyhaven</td>\n",
              "      <td>Hawaii</td>\n",
              "      <td>78523</td>\n",
              "    </tr>\n",
              "    <tr>\n",
              "      <th>1</th>\n",
              "      <td>fake_data</td>\n",
              "      <td>c06b35fe-0ecf-40a5-9184-8aa98f32625f</td>\n",
              "      <td>1.0</td>\n",
              "      <td>Mrs. Rachel Smith</td>\n",
              "      <td>087 Mack Coves</td>\n",
              "      <td>Lindaburgh</td>\n",
              "      <td>Vermont</td>\n",
              "      <td>19482</td>\n",
              "    </tr>\n",
              "    <tr>\n",
              "      <th>2</th>\n",
              "      <td>fake_data</td>\n",
              "      <td>ce616cea-733e-4888-915c-08bd896ee509</td>\n",
              "      <td>1.0</td>\n",
              "      <td>John Hendrix</td>\n",
              "      <td>81666 Amber Prairie Apt. 402</td>\n",
              "      <td>North Ryan</td>\n",
              "      <td>Minnesota</td>\n",
              "      <td>42677</td>\n",
              "    </tr>\n",
              "    <tr>\n",
              "      <th>3</th>\n",
              "      <td>fake_data</td>\n",
              "      <td>16b859c9-0698-4881-8621-db5bbb30e6ca</td>\n",
              "      <td>1.0</td>\n",
              "      <td>Angela Vargas</td>\n",
              "      <td>936 Cynthia Mill</td>\n",
              "      <td>Mooreshire</td>\n",
              "      <td>Alaska</td>\n",
              "      <td>99163</td>\n",
              "    </tr>\n",
              "    <tr>\n",
              "      <th>4</th>\n",
              "      <td>fake_data</td>\n",
              "      <td>0512d0ae-ed2e-425e-8708-98c340727533</td>\n",
              "      <td>1.0</td>\n",
              "      <td>Erika Pineda</td>\n",
              "      <td>09238 Simon Well</td>\n",
              "      <td>New Glennhaven</td>\n",
              "      <td>Hawaii</td>\n",
              "      <td>75814</td>\n",
              "    </tr>\n",
              "  </tbody>\n",
              "</table>\n",
              "</div>\n",
              "    <div class=\"colab-df-buttons\">\n",
              "\n",
              "  <div class=\"colab-df-container\">\n",
              "    <button class=\"colab-df-convert\" onclick=\"convertToInteractive('df-799be2c1-d0c0-47ac-8036-4aa80071959f')\"\n",
              "            title=\"Convert this dataframe to an interactive table.\"\n",
              "            style=\"display:none;\">\n",
              "\n",
              "  <svg xmlns=\"http://www.w3.org/2000/svg\" height=\"24px\" viewBox=\"0 -960 960 960\">\n",
              "    <path d=\"M120-120v-720h720v720H120Zm60-500h600v-160H180v160Zm220 220h160v-160H400v160Zm0 220h160v-160H400v160ZM180-400h160v-160H180v160Zm440 0h160v-160H620v160ZM180-180h160v-160H180v160Zm440 0h160v-160H620v160Z\"/>\n",
              "  </svg>\n",
              "    </button>\n",
              "\n",
              "  <style>\n",
              "    .colab-df-container {\n",
              "      display:flex;\n",
              "      gap: 12px;\n",
              "    }\n",
              "\n",
              "    .colab-df-convert {\n",
              "      background-color: #E8F0FE;\n",
              "      border: none;\n",
              "      border-radius: 50%;\n",
              "      cursor: pointer;\n",
              "      display: none;\n",
              "      fill: #1967D2;\n",
              "      height: 32px;\n",
              "      padding: 0 0 0 0;\n",
              "      width: 32px;\n",
              "    }\n",
              "\n",
              "    .colab-df-convert:hover {\n",
              "      background-color: #E2EBFA;\n",
              "      box-shadow: 0px 1px 2px rgba(60, 64, 67, 0.3), 0px 1px 3px 1px rgba(60, 64, 67, 0.15);\n",
              "      fill: #174EA6;\n",
              "    }\n",
              "\n",
              "    .colab-df-buttons div {\n",
              "      margin-bottom: 4px;\n",
              "    }\n",
              "\n",
              "    [theme=dark] .colab-df-convert {\n",
              "      background-color: #3B4455;\n",
              "      fill: #D2E3FC;\n",
              "    }\n",
              "\n",
              "    [theme=dark] .colab-df-convert:hover {\n",
              "      background-color: #434B5C;\n",
              "      box-shadow: 0px 1px 3px 1px rgba(0, 0, 0, 0.15);\n",
              "      filter: drop-shadow(0px 1px 2px rgba(0, 0, 0, 0.3));\n",
              "      fill: #FFFFFF;\n",
              "    }\n",
              "  </style>\n",
              "\n",
              "    <script>\n",
              "      const buttonEl =\n",
              "        document.querySelector('#df-799be2c1-d0c0-47ac-8036-4aa80071959f button.colab-df-convert');\n",
              "      buttonEl.style.display =\n",
              "        google.colab.kernel.accessAllowed ? 'block' : 'none';\n",
              "\n",
              "      async function convertToInteractive(key) {\n",
              "        const element = document.querySelector('#df-799be2c1-d0c0-47ac-8036-4aa80071959f');\n",
              "        const dataTable =\n",
              "          await google.colab.kernel.invokeFunction('convertToInteractive',\n",
              "                                                    [key], {});\n",
              "        if (!dataTable) return;\n",
              "\n",
              "        const docLinkHtml = 'Like what you see? Visit the ' +\n",
              "          '<a target=\"_blank\" href=https://colab.research.google.com/notebooks/data_table.ipynb>data table notebook</a>'\n",
              "          + ' to learn more about interactive tables.';\n",
              "        element.innerHTML = '';\n",
              "        dataTable['output_type'] = 'display_data';\n",
              "        await google.colab.output.renderOutput(dataTable, element);\n",
              "        const docLink = document.createElement('div');\n",
              "        docLink.innerHTML = docLinkHtml;\n",
              "        element.appendChild(docLink);\n",
              "      }\n",
              "    </script>\n",
              "  </div>\n",
              "\n",
              "\n",
              "<div id=\"df-7001ab51-383e-42d1-8913-eea4edabc5ed\">\n",
              "  <button class=\"colab-df-quickchart\" onclick=\"quickchart('df-7001ab51-383e-42d1-8913-eea4edabc5ed')\"\n",
              "            title=\"Suggest charts\"\n",
              "            style=\"display:none;\">\n",
              "\n",
              "<svg xmlns=\"http://www.w3.org/2000/svg\" height=\"24px\"viewBox=\"0 0 24 24\"\n",
              "     width=\"24px\">\n",
              "    <g>\n",
              "        <path d=\"M19 3H5c-1.1 0-2 .9-2 2v14c0 1.1.9 2 2 2h14c1.1 0 2-.9 2-2V5c0-1.1-.9-2-2-2zM9 17H7v-7h2v7zm4 0h-2V7h2v10zm4 0h-2v-4h2v4z\"/>\n",
              "    </g>\n",
              "</svg>\n",
              "  </button>\n",
              "\n",
              "<style>\n",
              "  .colab-df-quickchart {\n",
              "      --bg-color: #E8F0FE;\n",
              "      --fill-color: #1967D2;\n",
              "      --hover-bg-color: #E2EBFA;\n",
              "      --hover-fill-color: #174EA6;\n",
              "      --disabled-fill-color: #AAA;\n",
              "      --disabled-bg-color: #DDD;\n",
              "  }\n",
              "\n",
              "  [theme=dark] .colab-df-quickchart {\n",
              "      --bg-color: #3B4455;\n",
              "      --fill-color: #D2E3FC;\n",
              "      --hover-bg-color: #434B5C;\n",
              "      --hover-fill-color: #FFFFFF;\n",
              "      --disabled-bg-color: #3B4455;\n",
              "      --disabled-fill-color: #666;\n",
              "  }\n",
              "\n",
              "  .colab-df-quickchart {\n",
              "    background-color: var(--bg-color);\n",
              "    border: none;\n",
              "    border-radius: 50%;\n",
              "    cursor: pointer;\n",
              "    display: none;\n",
              "    fill: var(--fill-color);\n",
              "    height: 32px;\n",
              "    padding: 0;\n",
              "    width: 32px;\n",
              "  }\n",
              "\n",
              "  .colab-df-quickchart:hover {\n",
              "    background-color: var(--hover-bg-color);\n",
              "    box-shadow: 0 1px 2px rgba(60, 64, 67, 0.3), 0 1px 3px 1px rgba(60, 64, 67, 0.15);\n",
              "    fill: var(--button-hover-fill-color);\n",
              "  }\n",
              "\n",
              "  .colab-df-quickchart-complete:disabled,\n",
              "  .colab-df-quickchart-complete:disabled:hover {\n",
              "    background-color: var(--disabled-bg-color);\n",
              "    fill: var(--disabled-fill-color);\n",
              "    box-shadow: none;\n",
              "  }\n",
              "\n",
              "  .colab-df-spinner {\n",
              "    border: 2px solid var(--fill-color);\n",
              "    border-color: transparent;\n",
              "    border-bottom-color: var(--fill-color);\n",
              "    animation:\n",
              "      spin 1s steps(1) infinite;\n",
              "  }\n",
              "\n",
              "  @keyframes spin {\n",
              "    0% {\n",
              "      border-color: transparent;\n",
              "      border-bottom-color: var(--fill-color);\n",
              "      border-left-color: var(--fill-color);\n",
              "    }\n",
              "    20% {\n",
              "      border-color: transparent;\n",
              "      border-left-color: var(--fill-color);\n",
              "      border-top-color: var(--fill-color);\n",
              "    }\n",
              "    30% {\n",
              "      border-color: transparent;\n",
              "      border-left-color: var(--fill-color);\n",
              "      border-top-color: var(--fill-color);\n",
              "      border-right-color: var(--fill-color);\n",
              "    }\n",
              "    40% {\n",
              "      border-color: transparent;\n",
              "      border-right-color: var(--fill-color);\n",
              "      border-top-color: var(--fill-color);\n",
              "    }\n",
              "    60% {\n",
              "      border-color: transparent;\n",
              "      border-right-color: var(--fill-color);\n",
              "    }\n",
              "    80% {\n",
              "      border-color: transparent;\n",
              "      border-right-color: var(--fill-color);\n",
              "      border-bottom-color: var(--fill-color);\n",
              "    }\n",
              "    90% {\n",
              "      border-color: transparent;\n",
              "      border-bottom-color: var(--fill-color);\n",
              "    }\n",
              "  }\n",
              "</style>\n",
              "\n",
              "  <script>\n",
              "    async function quickchart(key) {\n",
              "      const quickchartButtonEl =\n",
              "        document.querySelector('#' + key + ' button');\n",
              "      quickchartButtonEl.disabled = true;  // To prevent multiple clicks.\n",
              "      quickchartButtonEl.classList.add('colab-df-spinner');\n",
              "      try {\n",
              "        const charts = await google.colab.kernel.invokeFunction(\n",
              "            'suggestCharts', [key], {});\n",
              "      } catch (error) {\n",
              "        console.error('Error during call to suggestCharts:', error);\n",
              "      }\n",
              "      quickchartButtonEl.classList.remove('colab-df-spinner');\n",
              "      quickchartButtonEl.classList.add('colab-df-quickchart-complete');\n",
              "    }\n",
              "    (() => {\n",
              "      let quickchartButtonEl =\n",
              "        document.querySelector('#df-7001ab51-383e-42d1-8913-eea4edabc5ed button');\n",
              "      quickchartButtonEl.style.display =\n",
              "        google.colab.kernel.accessAllowed ? 'block' : 'none';\n",
              "    })();\n",
              "  </script>\n",
              "</div>\n",
              "\n",
              "    </div>\n",
              "  </div>\n"
            ],
            "application/vnd.google.colaboratory.intrinsic+json": {
              "type": "dataframe",
              "variable_name": "df",
              "summary": "{\n  \"name\": \"df\",\n  \"rows\": 10,\n  \"fields\": [\n    {\n      \"column\": \"_index\",\n      \"properties\": {\n        \"dtype\": \"category\",\n        \"num_unique_values\": 1,\n        \"samples\": [\n          \"fake_data\"\n        ],\n        \"semantic_type\": \"\",\n        \"description\": \"\"\n      }\n    },\n    {\n      \"column\": \"_id\",\n      \"properties\": {\n        \"dtype\": \"string\",\n        \"num_unique_values\": 10,\n        \"samples\": [\n          \"0b854a2d-baeb-4166-a46c-248c6147271a\"\n        ],\n        \"semantic_type\": \"\",\n        \"description\": \"\"\n      }\n    },\n    {\n      \"column\": \"_score\",\n      \"properties\": {\n        \"dtype\": \"number\",\n        \"std\": 0.0,\n        \"min\": 1.0,\n        \"max\": 1.0,\n        \"num_unique_values\": 1,\n        \"samples\": [\n          1.0\n        ],\n        \"semantic_type\": \"\",\n        \"description\": \"\"\n      }\n    },\n    {\n      \"column\": \"_source.name\",\n      \"properties\": {\n        \"dtype\": \"string\",\n        \"num_unique_values\": 10,\n        \"samples\": [\n          \"Thomas Maynard\"\n        ],\n        \"semantic_type\": \"\",\n        \"description\": \"\"\n      }\n    },\n    {\n      \"column\": \"_source.street\",\n      \"properties\": {\n        \"dtype\": \"string\",\n        \"num_unique_values\": 10,\n        \"samples\": [\n          \"583 Dean Manor\"\n        ],\n        \"semantic_type\": \"\",\n        \"description\": \"\"\n      }\n    },\n    {\n      \"column\": \"_source.city\",\n      \"properties\": {\n        \"dtype\": \"string\",\n        \"num_unique_values\": 10,\n        \"samples\": [\n          \"New Victoriaview\"\n        ],\n        \"semantic_type\": \"\",\n        \"description\": \"\"\n      }\n    },\n    {\n      \"column\": \"_source.state\",\n      \"properties\": {\n        \"dtype\": \"string\",\n        \"num_unique_values\": 8,\n        \"samples\": [\n          \"Vermont\"\n        ],\n        \"semantic_type\": \"\",\n        \"description\": \"\"\n      }\n    },\n    {\n      \"column\": \"_source.zip\",\n      \"properties\": {\n        \"dtype\": \"string\",\n        \"num_unique_values\": 10,\n        \"samples\": [\n          \"29776\"\n        ],\n        \"semantic_type\": \"\",\n        \"description\": \"\"\n      }\n    }\n  ]\n}"
            }
          },
          "metadata": {},
          "execution_count": 9
        }
      ]
    },
    {
      "cell_type": "code",
      "source": [
        "doc={\"query\":{\"match\":{\"name\":\"Paul Goodman\"}}}\n",
        "res=es.search(index=\"fake_data\",body=doc)\n",
        "print(res['hits']['hits'][0]['_source'])"
      ],
      "metadata": {
        "colab": {
          "base_uri": "https://localhost:8080/"
        },
        "id": "fLcw5uTEtLbE",
        "outputId": "33efc538-c90e-4e03-880c-0d999f2d7293"
      },
      "execution_count": 10,
      "outputs": [
        {
          "output_type": "stream",
          "name": "stdout",
          "text": [
            "{'name': 'Paul Goodman', 'street': '547 Michelle View', 'city': 'East Williamville', 'state': 'Tennessee', 'zip': '75407'}\n"
          ]
        }
      ]
    },
    {
      "cell_type": "code",
      "source": [
        "res=es.search(index='fake_data',q='name:Paul Goodman')\n",
        "print(res['hits']['hits'][0]['_source'])"
      ],
      "metadata": {
        "id": "z-0l136Gt9ZF",
        "colab": {
          "base_uri": "https://localhost:8080/"
        },
        "outputId": "623992c7-6d92-408d-8b37-6eb0c011533c"
      },
      "execution_count": 11,
      "outputs": [
        {
          "output_type": "stream",
          "name": "stdout",
          "text": [
            "{'name': 'Paul Goodman', 'street': '547 Michelle View', 'city': 'East Williamville', 'state': 'Tennessee', 'zip': '75407'}\n"
          ]
        }
      ]
    },
    {
      "cell_type": "code",
      "source": [
        "#Get city Jamesberg -Returns Janmesberg and Lake Jamesberg\n",
        "doc={\"query\":{\"match\":{\"city\":\"Lindaburgh\"}}}\n",
        "res=es.search(index=\"fake_data\",body=doc)\n",
        "print(res['hits']['hits'][0]['_source'])"
      ],
      "metadata": {
        "colab": {
          "base_uri": "https://localhost:8080/"
        },
        "id": "KMb2ckuk5sSA",
        "outputId": "fe33a9b3-ac62-4799-c39f-f71126bf9273"
      },
      "execution_count": 12,
      "outputs": [
        {
          "output_type": "stream",
          "name": "stdout",
          "text": [
            "{'name': 'Mrs. Rachel Smith', 'street': '087 Mack Coves', 'city': 'Lindaburgh', 'state': 'Vermont', 'zip': '19482'}\n"
          ]
        }
      ]
    },
    {
      "cell_type": "code",
      "source": [
        "!pip install apache-airflow\n",
        "import os\n",
        "import os\n",
        "\n",
        "# Set Airflow home directory (this can be changed if needed)\n",
        "os.environ['AIRFLOW_HOME'] = '/content/airflow'\n",
        "\n",
        "# Optional: Set a connection string for the database (if you're using something other than SQLite)\n",
        "# Here we are using SQLite for simplicity\n",
        "os.environ['AIRFLOW__CORE__SQL_ALCHEMY_CONN'] = 'sqlite:////content/airflow/airflow.db'\n",
        "\n",
        "!pip install psycopg2\n",
        "\n",
        "!airflow db init"
      ],
      "metadata": {
        "colab": {
          "base_uri": "https://localhost:8080/"
        },
        "id": "ENP3JDFYCdOn",
        "outputId": "a43f7b11-9397-4166-e40a-644338b4c123"
      },
      "execution_count": 3,
      "outputs": [
        {
          "output_type": "stream",
          "name": "stdout",
          "text": [
            "Requirement already satisfied: apache-airflow in /usr/local/lib/python3.10/dist-packages (2.10.4)\n",
            "Requirement already satisfied: alembic<2.0,>=1.13.1 in /usr/local/lib/python3.10/dist-packages (from apache-airflow) (1.14.0)\n",
            "Requirement already satisfied: argcomplete>=1.10 in /usr/local/lib/python3.10/dist-packages (from apache-airflow) (3.5.3)\n",
            "Requirement already satisfied: asgiref>=2.3.0 in /usr/local/lib/python3.10/dist-packages (from apache-airflow) (3.8.1)\n",
            "Requirement already satisfied: attrs>=22.1.0 in /usr/local/lib/python3.10/dist-packages (from apache-airflow) (24.3.0)\n",
            "Requirement already satisfied: blinker>=1.6.2 in /usr/local/lib/python3.10/dist-packages (from apache-airflow) (1.9.0)\n",
            "Requirement already satisfied: colorlog>=6.8.2 in /usr/local/lib/python3.10/dist-packages (from apache-airflow) (6.9.0)\n",
            "Requirement already satisfied: configupdater>=3.1.1 in /usr/local/lib/python3.10/dist-packages (from apache-airflow) (3.2)\n",
            "Requirement already satisfied: connexion<3.0,>=2.14.2 in /usr/local/lib/python3.10/dist-packages (from connexion[flask]<3.0,>=2.14.2->apache-airflow) (2.14.2)\n",
            "Requirement already satisfied: cron-descriptor>=1.2.24 in /usr/local/lib/python3.10/dist-packages (from apache-airflow) (1.4.5)\n",
            "Requirement already satisfied: croniter>=2.0.2 in /usr/local/lib/python3.10/dist-packages (from apache-airflow) (6.0.0)\n",
            "Requirement already satisfied: cryptography>=41.0.0 in /usr/local/lib/python3.10/dist-packages (from apache-airflow) (43.0.3)\n",
            "Requirement already satisfied: deprecated>=1.2.13 in /usr/local/lib/python3.10/dist-packages (from apache-airflow) (1.2.15)\n",
            "Requirement already satisfied: dill>=0.2.2 in /usr/local/lib/python3.10/dist-packages (from apache-airflow) (0.3.9)\n",
            "Requirement already satisfied: flask-caching>=2.0.0 in /usr/local/lib/python3.10/dist-packages (from apache-airflow) (2.3.0)\n",
            "Requirement already satisfied: flask-session<0.6,>=0.4.0 in /usr/local/lib/python3.10/dist-packages (from apache-airflow) (0.5.0)\n",
            "Requirement already satisfied: flask-wtf>=1.1.0 in /usr/local/lib/python3.10/dist-packages (from apache-airflow) (1.2.2)\n",
            "Requirement already satisfied: flask<2.3,>=2.2.1 in /usr/local/lib/python3.10/dist-packages (from apache-airflow) (2.2.5)\n",
            "Requirement already satisfied: fsspec>=2023.10.0 in /usr/local/lib/python3.10/dist-packages (from apache-airflow) (2024.10.0)\n",
            "Requirement already satisfied: google-re2>=1.0 in /usr/local/lib/python3.10/dist-packages (from apache-airflow) (1.1.20240702)\n",
            "Requirement already satisfied: gunicorn>=20.1.0 in /usr/local/lib/python3.10/dist-packages (from apache-airflow) (23.0.0)\n",
            "Requirement already satisfied: httpx>=0.25.0 in /usr/local/lib/python3.10/dist-packages (from apache-airflow) (0.28.1)\n",
            "Requirement already satisfied: importlib_metadata>=6.5 in /usr/local/lib/python3.10/dist-packages (from apache-airflow) (8.5.0)\n",
            "Requirement already satisfied: itsdangerous>=2.0 in /usr/local/lib/python3.10/dist-packages (from apache-airflow) (2.2.0)\n",
            "Requirement already satisfied: jinja2>=3.0.0 in /usr/local/lib/python3.10/dist-packages (from apache-airflow) (3.1.5)\n",
            "Requirement already satisfied: jsonschema>=4.18.0 in /usr/local/lib/python3.10/dist-packages (from apache-airflow) (4.23.0)\n",
            "Requirement already satisfied: lazy-object-proxy>=1.2.0 in /usr/local/lib/python3.10/dist-packages (from apache-airflow) (1.10.0)\n",
            "Requirement already satisfied: linkify-it-py>=2.0.0 in /usr/local/lib/python3.10/dist-packages (from apache-airflow) (2.0.3)\n",
            "Requirement already satisfied: lockfile>=0.12.2 in /usr/local/lib/python3.10/dist-packages (from apache-airflow) (0.12.2)\n",
            "Requirement already satisfied: markdown-it-py>=2.1.0 in /usr/local/lib/python3.10/dist-packages (from apache-airflow) (3.0.0)\n",
            "Requirement already satisfied: markupsafe>=1.1.1 in /usr/local/lib/python3.10/dist-packages (from apache-airflow) (3.0.2)\n",
            "Requirement already satisfied: marshmallow-oneofschema>=2.0.1 in /usr/local/lib/python3.10/dist-packages (from apache-airflow) (3.1.1)\n",
            "Requirement already satisfied: mdit-py-plugins>=0.3.0 in /usr/local/lib/python3.10/dist-packages (from apache-airflow) (0.4.2)\n",
            "Requirement already satisfied: methodtools>=0.4.7 in /usr/local/lib/python3.10/dist-packages (from apache-airflow) (0.4.7)\n",
            "Requirement already satisfied: opentelemetry-api>=1.24.0 in /usr/local/lib/python3.10/dist-packages (from apache-airflow) (1.29.0)\n",
            "Requirement already satisfied: opentelemetry-exporter-otlp>=1.24.0 in /usr/local/lib/python3.10/dist-packages (from apache-airflow) (1.29.0)\n",
            "Requirement already satisfied: packaging>=23.0 in /usr/local/lib/python3.10/dist-packages (from apache-airflow) (24.2)\n",
            "Requirement already satisfied: pathspec>=0.9.0 in /usr/local/lib/python3.10/dist-packages (from apache-airflow) (0.12.1)\n",
            "Requirement already satisfied: pendulum<4.0,>=2.1.2 in /usr/local/lib/python3.10/dist-packages (from apache-airflow) (3.0.0)\n",
            "Requirement already satisfied: pluggy>=1.5.0 in /usr/local/lib/python3.10/dist-packages (from apache-airflow) (1.5.0)\n",
            "Requirement already satisfied: psutil>=5.8.0 in /usr/local/lib/python3.10/dist-packages (from apache-airflow) (5.9.5)\n",
            "Requirement already satisfied: pygments>=2.0.1 in /usr/local/lib/python3.10/dist-packages (from apache-airflow) (2.18.0)\n",
            "Requirement already satisfied: pyjwt>=2.0.0 in /usr/local/lib/python3.10/dist-packages (from apache-airflow) (2.10.1)\n",
            "Requirement already satisfied: python-daemon>=3.0.0 in /usr/local/lib/python3.10/dist-packages (from apache-airflow) (3.1.2)\n",
            "Requirement already satisfied: python-dateutil>=2.7.0 in /usr/local/lib/python3.10/dist-packages (from apache-airflow) (2.8.2)\n",
            "Requirement already satisfied: python-nvd3>=0.15.0 in /usr/local/lib/python3.10/dist-packages (from apache-airflow) (0.16.0)\n",
            "Requirement already satisfied: python-slugify>=5.0 in /usr/local/lib/python3.10/dist-packages (from apache-airflow) (8.0.4)\n",
            "Requirement already satisfied: requests<3,>=2.27.0 in /usr/local/lib/python3.10/dist-packages (from apache-airflow) (2.32.3)\n",
            "Requirement already satisfied: requests-toolbelt>=0.4.0 in /usr/local/lib/python3.10/dist-packages (from apache-airflow) (1.0.0)\n",
            "Requirement already satisfied: rfc3339-validator>=0.1.4 in /usr/local/lib/python3.10/dist-packages (from apache-airflow) (0.1.4)\n",
            "Requirement already satisfied: rich-argparse>=1.0.0 in /usr/local/lib/python3.10/dist-packages (from apache-airflow) (1.6.0)\n",
            "Requirement already satisfied: rich>=12.4.4 in /usr/local/lib/python3.10/dist-packages (from apache-airflow) (13.9.4)\n",
            "Requirement already satisfied: setproctitle>=1.3.3 in /usr/local/lib/python3.10/dist-packages (from apache-airflow) (1.3.4)\n",
            "Requirement already satisfied: sqlalchemy<2.0,>=1.4.36 in /usr/local/lib/python3.10/dist-packages (from apache-airflow) (1.4.54)\n",
            "Requirement already satisfied: sqlalchemy-jsonfield>=1.0 in /usr/local/lib/python3.10/dist-packages (from apache-airflow) (1.0.2)\n",
            "Requirement already satisfied: tabulate>=0.7.5 in /usr/local/lib/python3.10/dist-packages (from apache-airflow) (0.9.0)\n",
            "Requirement already satisfied: tenacity!=8.2.0,>=8.0.0 in /usr/local/lib/python3.10/dist-packages (from apache-airflow) (9.0.0)\n",
            "Requirement already satisfied: termcolor>=1.1.0 in /usr/local/lib/python3.10/dist-packages (from apache-airflow) (2.5.0)\n",
            "Requirement already satisfied: universal-pathlib!=0.2.4,>=0.2.2 in /usr/local/lib/python3.10/dist-packages (from apache-airflow) (0.2.6)\n",
            "Requirement already satisfied: werkzeug<3,>=2.0 in /usr/local/lib/python3.10/dist-packages (from apache-airflow) (2.2.3)\n",
            "Requirement already satisfied: apache-airflow-providers-common-compat in /usr/local/lib/python3.10/dist-packages (from apache-airflow) (1.3.0)\n",
            "Requirement already satisfied: apache-airflow-providers-common-io in /usr/local/lib/python3.10/dist-packages (from apache-airflow) (1.5.0)\n",
            "Requirement already satisfied: apache-airflow-providers-common-sql in /usr/local/lib/python3.10/dist-packages (from apache-airflow) (1.21.0)\n",
            "Requirement already satisfied: apache-airflow-providers-fab>=1.0.2 in /usr/local/lib/python3.10/dist-packages (from apache-airflow) (1.5.2)\n",
            "Requirement already satisfied: apache-airflow-providers-ftp in /usr/local/lib/python3.10/dist-packages (from apache-airflow) (3.12.0)\n",
            "Requirement already satisfied: apache-airflow-providers-http in /usr/local/lib/python3.10/dist-packages (from apache-airflow) (5.0.0)\n",
            "Requirement already satisfied: apache-airflow-providers-imap in /usr/local/lib/python3.10/dist-packages (from apache-airflow) (3.8.0)\n",
            "Requirement already satisfied: apache-airflow-providers-smtp in /usr/local/lib/python3.10/dist-packages (from apache-airflow) (1.9.0)\n",
            "Requirement already satisfied: apache-airflow-providers-sqlite in /usr/local/lib/python3.10/dist-packages (from apache-airflow) (4.0.0)\n",
            "Requirement already satisfied: Mako in /usr/local/lib/python3.10/dist-packages (from alembic<2.0,>=1.13.1->apache-airflow) (1.3.8)\n",
            "Requirement already satisfied: typing-extensions>=4 in /usr/local/lib/python3.10/dist-packages (from alembic<2.0,>=1.13.1->apache-airflow) (4.12.2)\n",
            "Requirement already satisfied: flask-appbuilder==4.5.2 in /usr/local/lib/python3.10/dist-packages (from apache-airflow-providers-fab>=1.0.2->apache-airflow) (4.5.2)\n",
            "Requirement already satisfied: flask-login>=0.6.2 in /usr/local/lib/python3.10/dist-packages (from apache-airflow-providers-fab>=1.0.2->apache-airflow) (0.6.3)\n",
            "Requirement already satisfied: jmespath>=0.7.0 in /usr/local/lib/python3.10/dist-packages (from apache-airflow-providers-fab>=1.0.2->apache-airflow) (1.0.1)\n",
            "Requirement already satisfied: apispec<7,>=6.0.0 in /usr/local/lib/python3.10/dist-packages (from apispec[yaml]<7,>=6.0.0->flask-appbuilder==4.5.2->apache-airflow-providers-fab>=1.0.2->apache-airflow) (6.8.1)\n",
            "Requirement already satisfied: colorama<1,>=0.3.9 in /usr/local/lib/python3.10/dist-packages (from flask-appbuilder==4.5.2->apache-airflow-providers-fab>=1.0.2->apache-airflow) (0.4.6)\n",
            "Requirement already satisfied: click<9,>=8 in /usr/local/lib/python3.10/dist-packages (from flask-appbuilder==4.5.2->apache-airflow-providers-fab>=1.0.2->apache-airflow) (8.1.8)\n",
            "Requirement already satisfied: email-validator>=1.0.5 in /usr/local/lib/python3.10/dist-packages (from flask-appbuilder==4.5.2->apache-airflow-providers-fab>=1.0.2->apache-airflow) (2.2.0)\n",
            "Requirement already satisfied: Flask-Babel<3,>=1 in /usr/local/lib/python3.10/dist-packages (from flask-appbuilder==4.5.2->apache-airflow-providers-fab>=1.0.2->apache-airflow) (2.0.0)\n",
            "Requirement already satisfied: Flask-Limiter<4,>3 in /usr/local/lib/python3.10/dist-packages (from flask-appbuilder==4.5.2->apache-airflow-providers-fab>=1.0.2->apache-airflow) (3.10.0)\n",
            "Requirement already satisfied: Flask-SQLAlchemy<3,>=2.4 in /usr/local/lib/python3.10/dist-packages (from flask-appbuilder==4.5.2->apache-airflow-providers-fab>=1.0.2->apache-airflow) (2.5.1)\n",
            "Requirement already satisfied: Flask-JWT-Extended<5.0.0,>=4.0.0 in /usr/local/lib/python3.10/dist-packages (from flask-appbuilder==4.5.2->apache-airflow-providers-fab>=1.0.2->apache-airflow) (4.7.1)\n",
            "Requirement already satisfied: marshmallow<4,>=3.18.0 in /usr/local/lib/python3.10/dist-packages (from flask-appbuilder==4.5.2->apache-airflow-providers-fab>=1.0.2->apache-airflow) (3.25.0)\n",
            "Requirement already satisfied: marshmallow-sqlalchemy<0.29.0,>=0.22.0 in /usr/local/lib/python3.10/dist-packages (from flask-appbuilder==4.5.2->apache-airflow-providers-fab>=1.0.2->apache-airflow) (0.28.2)\n",
            "Requirement already satisfied: prison<1.0.0,>=0.2.1 in /usr/local/lib/python3.10/dist-packages (from flask-appbuilder==4.5.2->apache-airflow-providers-fab>=1.0.2->apache-airflow) (0.2.1)\n",
            "Requirement already satisfied: sqlalchemy-utils<1,>=0.32.21 in /usr/local/lib/python3.10/dist-packages (from flask-appbuilder==4.5.2->apache-airflow-providers-fab>=1.0.2->apache-airflow) (0.41.2)\n",
            "Requirement already satisfied: WTForms<4 in /usr/local/lib/python3.10/dist-packages (from flask-appbuilder==4.5.2->apache-airflow-providers-fab>=1.0.2->apache-airflow) (3.2.1)\n",
            "Requirement already satisfied: clickclick<21,>=1.2 in /usr/local/lib/python3.10/dist-packages (from connexion<3.0,>=2.14.2->connexion[flask]<3.0,>=2.14.2->apache-airflow) (20.10.2)\n",
            "Requirement already satisfied: PyYAML<7,>=5.1 in /usr/local/lib/python3.10/dist-packages (from connexion<3.0,>=2.14.2->connexion[flask]<3.0,>=2.14.2->apache-airflow) (6.0.2)\n",
            "Requirement already satisfied: inflection<0.6,>=0.3.1 in /usr/local/lib/python3.10/dist-packages (from connexion<3.0,>=2.14.2->connexion[flask]<3.0,>=2.14.2->apache-airflow) (0.5.1)\n",
            "Requirement already satisfied: pytz>2021.1 in /usr/local/lib/python3.10/dist-packages (from croniter>=2.0.2->apache-airflow) (2024.2)\n",
            "Requirement already satisfied: cffi>=1.12 in /usr/local/lib/python3.10/dist-packages (from cryptography>=41.0.0->apache-airflow) (1.17.1)\n",
            "Requirement already satisfied: wrapt<2,>=1.10 in /usr/local/lib/python3.10/dist-packages (from deprecated>=1.2.13->apache-airflow) (1.17.0)\n",
            "Requirement already satisfied: cachelib<0.10.0,>=0.9.0 in /usr/local/lib/python3.10/dist-packages (from flask-caching>=2.0.0->apache-airflow) (0.9.0)\n",
            "Requirement already satisfied: anyio in /usr/local/lib/python3.10/dist-packages (from httpx>=0.25.0->apache-airflow) (3.7.1)\n",
            "Requirement already satisfied: certifi in /usr/local/lib/python3.10/dist-packages (from httpx>=0.25.0->apache-airflow) (2024.12.14)\n",
            "Requirement already satisfied: httpcore==1.* in /usr/local/lib/python3.10/dist-packages (from httpx>=0.25.0->apache-airflow) (1.0.7)\n",
            "Requirement already satisfied: idna in /usr/local/lib/python3.10/dist-packages (from httpx>=0.25.0->apache-airflow) (3.10)\n",
            "Requirement already satisfied: h11<0.15,>=0.13 in /usr/local/lib/python3.10/dist-packages (from httpcore==1.*->httpx>=0.25.0->apache-airflow) (0.14.0)\n",
            "Requirement already satisfied: zipp>=3.20 in /usr/local/lib/python3.10/dist-packages (from importlib_metadata>=6.5->apache-airflow) (3.21.0)\n",
            "Requirement already satisfied: jsonschema-specifications>=2023.03.6 in /usr/local/lib/python3.10/dist-packages (from jsonschema>=4.18.0->apache-airflow) (2024.10.1)\n",
            "Requirement already satisfied: referencing>=0.28.4 in /usr/local/lib/python3.10/dist-packages (from jsonschema>=4.18.0->apache-airflow) (0.35.1)\n",
            "Requirement already satisfied: rpds-py>=0.7.1 in /usr/local/lib/python3.10/dist-packages (from jsonschema>=4.18.0->apache-airflow) (0.22.3)\n",
            "Requirement already satisfied: uc-micro-py in /usr/local/lib/python3.10/dist-packages (from linkify-it-py>=2.0.0->apache-airflow) (1.0.3)\n",
            "Requirement already satisfied: mdurl~=0.1 in /usr/local/lib/python3.10/dist-packages (from markdown-it-py>=2.1.0->apache-airflow) (0.1.2)\n",
            "Requirement already satisfied: wirerope>=0.4.7 in /usr/local/lib/python3.10/dist-packages (from methodtools>=0.4.7->apache-airflow) (0.4.8)\n",
            "Requirement already satisfied: opentelemetry-exporter-otlp-proto-grpc==1.29.0 in /usr/local/lib/python3.10/dist-packages (from opentelemetry-exporter-otlp>=1.24.0->apache-airflow) (1.29.0)\n",
            "Requirement already satisfied: opentelemetry-exporter-otlp-proto-http==1.29.0 in /usr/local/lib/python3.10/dist-packages (from opentelemetry-exporter-otlp>=1.24.0->apache-airflow) (1.29.0)\n",
            "Requirement already satisfied: googleapis-common-protos~=1.52 in /usr/local/lib/python3.10/dist-packages (from opentelemetry-exporter-otlp-proto-grpc==1.29.0->opentelemetry-exporter-otlp>=1.24.0->apache-airflow) (1.66.0)\n",
            "Requirement already satisfied: grpcio<2.0.0,>=1.63.2 in /usr/local/lib/python3.10/dist-packages (from opentelemetry-exporter-otlp-proto-grpc==1.29.0->opentelemetry-exporter-otlp>=1.24.0->apache-airflow) (1.69.0)\n",
            "Requirement already satisfied: opentelemetry-exporter-otlp-proto-common==1.29.0 in /usr/local/lib/python3.10/dist-packages (from opentelemetry-exporter-otlp-proto-grpc==1.29.0->opentelemetry-exporter-otlp>=1.24.0->apache-airflow) (1.29.0)\n",
            "Requirement already satisfied: opentelemetry-proto==1.29.0 in /usr/local/lib/python3.10/dist-packages (from opentelemetry-exporter-otlp-proto-grpc==1.29.0->opentelemetry-exporter-otlp>=1.24.0->apache-airflow) (1.29.0)\n",
            "Requirement already satisfied: opentelemetry-sdk~=1.29.0 in /usr/local/lib/python3.10/dist-packages (from opentelemetry-exporter-otlp-proto-grpc==1.29.0->opentelemetry-exporter-otlp>=1.24.0->apache-airflow) (1.29.0)\n",
            "Requirement already satisfied: protobuf<6.0,>=5.0 in /usr/local/lib/python3.10/dist-packages (from opentelemetry-proto==1.29.0->opentelemetry-exporter-otlp-proto-grpc==1.29.0->opentelemetry-exporter-otlp>=1.24.0->apache-airflow) (5.29.3)\n",
            "Requirement already satisfied: tzdata>=2020.1 in /usr/local/lib/python3.10/dist-packages (from pendulum<4.0,>=2.1.2->apache-airflow) (2024.2)\n",
            "Requirement already satisfied: time-machine>=2.6.0 in /usr/local/lib/python3.10/dist-packages (from pendulum<4.0,>=2.1.2->apache-airflow) (2.16.0)\n",
            "Requirement already satisfied: six>=1.5 in /usr/local/lib/python3.10/dist-packages (from python-dateutil>=2.7.0->apache-airflow) (1.17.0)\n",
            "Requirement already satisfied: text-unidecode>=1.3 in /usr/local/lib/python3.10/dist-packages (from python-slugify>=5.0->apache-airflow) (1.3)\n",
            "Requirement already satisfied: charset-normalizer<4,>=2 in /usr/local/lib/python3.10/dist-packages (from requests<3,>=2.27.0->apache-airflow) (3.4.1)\n",
            "Requirement already satisfied: urllib3<3,>=1.21.1 in /usr/local/lib/python3.10/dist-packages (from requests<3,>=2.27.0->apache-airflow) (2.3.0)\n",
            "Requirement already satisfied: greenlet!=0.4.17 in /usr/local/lib/python3.10/dist-packages (from sqlalchemy<2.0,>=1.4.36->apache-airflow) (3.1.1)\n",
            "Requirement already satisfied: more-itertools>=9.0.0 in /usr/local/lib/python3.10/dist-packages (from apache-airflow-providers-common-sql->apache-airflow) (10.5.0)\n",
            "Requirement already satisfied: sqlparse>=0.5.1 in /usr/local/lib/python3.10/dist-packages (from apache-airflow-providers-common-sql->apache-airflow) (0.5.3)\n",
            "Requirement already satisfied: aiohttp!=3.11.0,>=3.9.2 in /usr/local/lib/python3.10/dist-packages (from apache-airflow-providers-http->apache-airflow) (3.11.11)\n",
            "Requirement already satisfied: aiosqlite>=0.20.0 in /usr/local/lib/python3.10/dist-packages (from apache-airflow-providers-sqlite->apache-airflow) (0.20.0)\n",
            "Requirement already satisfied: aiohappyeyeballs>=2.3.0 in /usr/local/lib/python3.10/dist-packages (from aiohttp!=3.11.0,>=3.9.2->apache-airflow-providers-http->apache-airflow) (2.4.4)\n",
            "Requirement already satisfied: aiosignal>=1.1.2 in /usr/local/lib/python3.10/dist-packages (from aiohttp!=3.11.0,>=3.9.2->apache-airflow-providers-http->apache-airflow) (1.3.2)\n",
            "Requirement already satisfied: async-timeout<6.0,>=4.0 in /usr/local/lib/python3.10/dist-packages (from aiohttp!=3.11.0,>=3.9.2->apache-airflow-providers-http->apache-airflow) (4.0.3)\n",
            "Requirement already satisfied: frozenlist>=1.1.1 in /usr/local/lib/python3.10/dist-packages (from aiohttp!=3.11.0,>=3.9.2->apache-airflow-providers-http->apache-airflow) (1.5.0)\n",
            "Requirement already satisfied: multidict<7.0,>=4.5 in /usr/local/lib/python3.10/dist-packages (from aiohttp!=3.11.0,>=3.9.2->apache-airflow-providers-http->apache-airflow) (6.1.0)\n",
            "Requirement already satisfied: propcache>=0.2.0 in /usr/local/lib/python3.10/dist-packages (from aiohttp!=3.11.0,>=3.9.2->apache-airflow-providers-http->apache-airflow) (0.2.1)\n",
            "Requirement already satisfied: yarl<2.0,>=1.17.0 in /usr/local/lib/python3.10/dist-packages (from aiohttp!=3.11.0,>=3.9.2->apache-airflow-providers-http->apache-airflow) (1.18.3)\n",
            "Requirement already satisfied: pycparser in /usr/local/lib/python3.10/dist-packages (from cffi>=1.12->cryptography>=41.0.0->apache-airflow) (2.22)\n",
            "Requirement already satisfied: sniffio>=1.1 in /usr/local/lib/python3.10/dist-packages (from anyio->httpx>=0.25.0->apache-airflow) (1.3.1)\n",
            "Requirement already satisfied: exceptiongroup in /usr/local/lib/python3.10/dist-packages (from anyio->httpx>=0.25.0->apache-airflow) (1.2.2)\n",
            "Requirement already satisfied: dnspython>=2.0.0 in /usr/local/lib/python3.10/dist-packages (from email-validator>=1.0.5->flask-appbuilder==4.5.2->apache-airflow-providers-fab>=1.0.2->apache-airflow) (2.7.0)\n",
            "Requirement already satisfied: Babel>=2.3 in /usr/local/lib/python3.10/dist-packages (from Flask-Babel<3,>=1->flask-appbuilder==4.5.2->apache-airflow-providers-fab>=1.0.2->apache-airflow) (2.16.0)\n",
            "Requirement already satisfied: limits>=3.13 in /usr/local/lib/python3.10/dist-packages (from Flask-Limiter<4,>3->flask-appbuilder==4.5.2->apache-airflow-providers-fab>=1.0.2->apache-airflow) (4.0.0)\n",
            "Requirement already satisfied: ordered-set<5,>4 in /usr/local/lib/python3.10/dist-packages (from Flask-Limiter<4,>3->flask-appbuilder==4.5.2->apache-airflow-providers-fab>=1.0.2->apache-airflow) (4.1.0)\n",
            "Requirement already satisfied: opentelemetry-semantic-conventions==0.50b0 in /usr/local/lib/python3.10/dist-packages (from opentelemetry-sdk~=1.29.0->opentelemetry-exporter-otlp-proto-grpc==1.29.0->opentelemetry-exporter-otlp>=1.24.0->apache-airflow) (0.50b0)\n",
            "Requirement already satisfied: psycopg2 in /usr/local/lib/python3.10/dist-packages (2.9.10)\n",
            "DB: sqlite:////content/airflow/airflow.db\n",
            "[\u001b[34m2025-01-10T15:57:36.592+0000\u001b[0m] {\u001b[34mmigration.py:\u001b[0m207} INFO\u001b[0m - Context impl \u001b[1mSQLiteImpl\u001b[22m.\u001b[0m\n",
            "[\u001b[34m2025-01-10T15:57:36.593+0000\u001b[0m] {\u001b[34mmigration.py:\u001b[0m210} INFO\u001b[0m - Will assume \u001b[1mnon-transactional\u001b[22m DDL.\u001b[0m\n",
            "[\u001b[34m2025-01-10T15:57:36.781+0000\u001b[0m] {\u001b[34mmigration.py:\u001b[0m207} INFO\u001b[0m - Context impl \u001b[1mSQLiteImpl\u001b[22m.\u001b[0m\n",
            "[\u001b[34m2025-01-10T15:57:36.782+0000\u001b[0m] {\u001b[34mmigration.py:\u001b[0m210} INFO\u001b[0m - Will assume \u001b[1mnon-transactional\u001b[22m DDL.\u001b[0m\n",
            "[\u001b[34m2025-01-10T15:57:36.784+0000\u001b[0m] {\u001b[34mmigration.py:\u001b[0m207} INFO\u001b[0m - Context impl \u001b[1mSQLiteImpl\u001b[22m.\u001b[0m\n",
            "[\u001b[34m2025-01-10T15:57:36.784+0000\u001b[0m] {\u001b[34mmigration.py:\u001b[0m210} INFO\u001b[0m - Will assume \u001b[1mnon-transactional\u001b[22m DDL.\u001b[0m\n",
            "[\u001b[34m2025-01-10T15:57:36.785+0000\u001b[0m] {\u001b[34mdb.py:\u001b[0m1675} INFO\u001b[0m - Creating tables\u001b[0m\n",
            "INFO  [alembic.runtime.migration] Context impl SQLiteImpl.\n",
            "INFO  [alembic.runtime.migration] Will assume non-transactional DDL.\n",
            "INFO  [alembic.runtime.migration] Context impl SQLiteImpl.\n",
            "INFO  [alembic.runtime.migration] Will assume non-transactional DDL.\n",
            "WARNI [airflow.models.crypto] empty cryptography key - values will not be stored encrypted.\n",
            "Initialization done\n"
          ]
        }
      ]
    },
    {
      "cell_type": "code",
      "source": [
        "!pip install --upgrade apache-airflow sqlalchemy\n",
        "\n"
      ],
      "metadata": {
        "colab": {
          "base_uri": "https://localhost:8080/"
        },
        "id": "ombWbwA_uZ1y",
        "outputId": "0d4dc9f7-912f-4670-b4dc-51905bb5bb07"
      },
      "execution_count": 1,
      "outputs": [
        {
          "output_type": "stream",
          "name": "stdout",
          "text": [
            "Requirement already satisfied: apache-airflow in /usr/local/lib/python3.10/dist-packages (2.10.4)\n",
            "Requirement already satisfied: sqlalchemy in /usr/local/lib/python3.10/dist-packages (1.4.54)\n",
            "Collecting sqlalchemy\n",
            "  Using cached SQLAlchemy-2.0.37-cp310-cp310-manylinux_2_17_x86_64.manylinux2014_x86_64.whl.metadata (9.6 kB)\n",
            "Requirement already satisfied: alembic<2.0,>=1.13.1 in /usr/local/lib/python3.10/dist-packages (from apache-airflow) (1.14.0)\n",
            "Requirement already satisfied: argcomplete>=1.10 in /usr/local/lib/python3.10/dist-packages (from apache-airflow) (3.5.3)\n",
            "Requirement already satisfied: asgiref>=2.3.0 in /usr/local/lib/python3.10/dist-packages (from apache-airflow) (3.8.1)\n",
            "Requirement already satisfied: attrs>=22.1.0 in /usr/local/lib/python3.10/dist-packages (from apache-airflow) (24.3.0)\n",
            "Requirement already satisfied: blinker>=1.6.2 in /usr/local/lib/python3.10/dist-packages (from apache-airflow) (1.9.0)\n",
            "Requirement already satisfied: colorlog>=6.8.2 in /usr/local/lib/python3.10/dist-packages (from apache-airflow) (6.9.0)\n",
            "Requirement already satisfied: configupdater>=3.1.1 in /usr/local/lib/python3.10/dist-packages (from apache-airflow) (3.2)\n",
            "Requirement already satisfied: connexion<3.0,>=2.14.2 in /usr/local/lib/python3.10/dist-packages (from connexion[flask]<3.0,>=2.14.2->apache-airflow) (2.14.2)\n",
            "Requirement already satisfied: cron-descriptor>=1.2.24 in /usr/local/lib/python3.10/dist-packages (from apache-airflow) (1.4.5)\n",
            "Requirement already satisfied: croniter>=2.0.2 in /usr/local/lib/python3.10/dist-packages (from apache-airflow) (6.0.0)\n",
            "Requirement already satisfied: cryptography>=41.0.0 in /usr/local/lib/python3.10/dist-packages (from apache-airflow) (43.0.3)\n",
            "Requirement already satisfied: deprecated>=1.2.13 in /usr/local/lib/python3.10/dist-packages (from apache-airflow) (1.2.15)\n",
            "Requirement already satisfied: dill>=0.2.2 in /usr/local/lib/python3.10/dist-packages (from apache-airflow) (0.3.9)\n",
            "Requirement already satisfied: flask-caching>=2.0.0 in /usr/local/lib/python3.10/dist-packages (from apache-airflow) (2.3.0)\n",
            "Requirement already satisfied: flask-session<0.6,>=0.4.0 in /usr/local/lib/python3.10/dist-packages (from apache-airflow) (0.5.0)\n",
            "Requirement already satisfied: flask-wtf>=1.1.0 in /usr/local/lib/python3.10/dist-packages (from apache-airflow) (1.2.2)\n",
            "Requirement already satisfied: flask<2.3,>=2.2.1 in /usr/local/lib/python3.10/dist-packages (from apache-airflow) (2.2.5)\n",
            "Requirement already satisfied: fsspec>=2023.10.0 in /usr/local/lib/python3.10/dist-packages (from apache-airflow) (2024.10.0)\n",
            "Requirement already satisfied: google-re2>=1.0 in /usr/local/lib/python3.10/dist-packages (from apache-airflow) (1.1.20240702)\n",
            "Requirement already satisfied: gunicorn>=20.1.0 in /usr/local/lib/python3.10/dist-packages (from apache-airflow) (23.0.0)\n",
            "Requirement already satisfied: httpx>=0.25.0 in /usr/local/lib/python3.10/dist-packages (from apache-airflow) (0.28.1)\n",
            "Requirement already satisfied: importlib_metadata>=6.5 in /usr/local/lib/python3.10/dist-packages (from apache-airflow) (8.5.0)\n",
            "Requirement already satisfied: itsdangerous>=2.0 in /usr/local/lib/python3.10/dist-packages (from apache-airflow) (2.2.0)\n",
            "Requirement already satisfied: jinja2>=3.0.0 in /usr/local/lib/python3.10/dist-packages (from apache-airflow) (3.1.5)\n",
            "Requirement already satisfied: jsonschema>=4.18.0 in /usr/local/lib/python3.10/dist-packages (from apache-airflow) (4.23.0)\n",
            "Requirement already satisfied: lazy-object-proxy>=1.2.0 in /usr/local/lib/python3.10/dist-packages (from apache-airflow) (1.10.0)\n",
            "Requirement already satisfied: linkify-it-py>=2.0.0 in /usr/local/lib/python3.10/dist-packages (from apache-airflow) (2.0.3)\n",
            "Requirement already satisfied: lockfile>=0.12.2 in /usr/local/lib/python3.10/dist-packages (from apache-airflow) (0.12.2)\n",
            "Requirement already satisfied: markdown-it-py>=2.1.0 in /usr/local/lib/python3.10/dist-packages (from apache-airflow) (3.0.0)\n",
            "Requirement already satisfied: markupsafe>=1.1.1 in /usr/local/lib/python3.10/dist-packages (from apache-airflow) (3.0.2)\n",
            "Requirement already satisfied: marshmallow-oneofschema>=2.0.1 in /usr/local/lib/python3.10/dist-packages (from apache-airflow) (3.1.1)\n",
            "Requirement already satisfied: mdit-py-plugins>=0.3.0 in /usr/local/lib/python3.10/dist-packages (from apache-airflow) (0.4.2)\n",
            "Requirement already satisfied: methodtools>=0.4.7 in /usr/local/lib/python3.10/dist-packages (from apache-airflow) (0.4.7)\n",
            "Requirement already satisfied: opentelemetry-api>=1.24.0 in /usr/local/lib/python3.10/dist-packages (from apache-airflow) (1.29.0)\n",
            "Requirement already satisfied: opentelemetry-exporter-otlp>=1.24.0 in /usr/local/lib/python3.10/dist-packages (from apache-airflow) (1.29.0)\n",
            "Requirement already satisfied: packaging>=23.0 in /usr/local/lib/python3.10/dist-packages (from apache-airflow) (24.2)\n",
            "Requirement already satisfied: pathspec>=0.9.0 in /usr/local/lib/python3.10/dist-packages (from apache-airflow) (0.12.1)\n",
            "Requirement already satisfied: pendulum<4.0,>=2.1.2 in /usr/local/lib/python3.10/dist-packages (from apache-airflow) (3.0.0)\n",
            "Requirement already satisfied: pluggy>=1.5.0 in /usr/local/lib/python3.10/dist-packages (from apache-airflow) (1.5.0)\n",
            "Requirement already satisfied: psutil>=5.8.0 in /usr/local/lib/python3.10/dist-packages (from apache-airflow) (5.9.5)\n",
            "Requirement already satisfied: pygments>=2.0.1 in /usr/local/lib/python3.10/dist-packages (from apache-airflow) (2.18.0)\n",
            "Requirement already satisfied: pyjwt>=2.0.0 in /usr/local/lib/python3.10/dist-packages (from apache-airflow) (2.10.1)\n",
            "Requirement already satisfied: python-daemon>=3.0.0 in /usr/local/lib/python3.10/dist-packages (from apache-airflow) (3.1.2)\n",
            "Requirement already satisfied: python-dateutil>=2.7.0 in /usr/local/lib/python3.10/dist-packages (from apache-airflow) (2.8.2)\n",
            "Requirement already satisfied: python-nvd3>=0.15.0 in /usr/local/lib/python3.10/dist-packages (from apache-airflow) (0.16.0)\n",
            "Requirement already satisfied: python-slugify>=5.0 in /usr/local/lib/python3.10/dist-packages (from apache-airflow) (8.0.4)\n",
            "Requirement already satisfied: requests<3,>=2.27.0 in /usr/local/lib/python3.10/dist-packages (from apache-airflow) (2.32.3)\n",
            "Requirement already satisfied: requests-toolbelt>=0.4.0 in /usr/local/lib/python3.10/dist-packages (from apache-airflow) (1.0.0)\n",
            "Requirement already satisfied: rfc3339-validator>=0.1.4 in /usr/local/lib/python3.10/dist-packages (from apache-airflow) (0.1.4)\n",
            "Requirement already satisfied: rich-argparse>=1.0.0 in /usr/local/lib/python3.10/dist-packages (from apache-airflow) (1.6.0)\n",
            "Requirement already satisfied: rich>=12.4.4 in /usr/local/lib/python3.10/dist-packages (from apache-airflow) (13.9.4)\n",
            "Requirement already satisfied: setproctitle>=1.3.3 in /usr/local/lib/python3.10/dist-packages (from apache-airflow) (1.3.4)\n",
            "Requirement already satisfied: sqlalchemy-jsonfield>=1.0 in /usr/local/lib/python3.10/dist-packages (from apache-airflow) (1.0.2)\n",
            "Requirement already satisfied: tabulate>=0.7.5 in /usr/local/lib/python3.10/dist-packages (from apache-airflow) (0.9.0)\n",
            "Requirement already satisfied: tenacity!=8.2.0,>=8.0.0 in /usr/local/lib/python3.10/dist-packages (from apache-airflow) (9.0.0)\n",
            "Requirement already satisfied: termcolor>=1.1.0 in /usr/local/lib/python3.10/dist-packages (from apache-airflow) (2.5.0)\n",
            "Requirement already satisfied: universal-pathlib!=0.2.4,>=0.2.2 in /usr/local/lib/python3.10/dist-packages (from apache-airflow) (0.2.6)\n",
            "Requirement already satisfied: werkzeug<3,>=2.0 in /usr/local/lib/python3.10/dist-packages (from apache-airflow) (2.2.3)\n",
            "Requirement already satisfied: apache-airflow-providers-common-compat in /usr/local/lib/python3.10/dist-packages (from apache-airflow) (1.3.0)\n",
            "Requirement already satisfied: apache-airflow-providers-common-io in /usr/local/lib/python3.10/dist-packages (from apache-airflow) (1.5.0)\n",
            "Requirement already satisfied: apache-airflow-providers-common-sql in /usr/local/lib/python3.10/dist-packages (from apache-airflow) (1.21.0)\n",
            "Requirement already satisfied: apache-airflow-providers-fab>=1.0.2 in /usr/local/lib/python3.10/dist-packages (from apache-airflow) (1.5.2)\n",
            "Requirement already satisfied: apache-airflow-providers-ftp in /usr/local/lib/python3.10/dist-packages (from apache-airflow) (3.12.0)\n",
            "Requirement already satisfied: apache-airflow-providers-http in /usr/local/lib/python3.10/dist-packages (from apache-airflow) (5.0.0)\n",
            "Requirement already satisfied: apache-airflow-providers-imap in /usr/local/lib/python3.10/dist-packages (from apache-airflow) (3.8.0)\n",
            "Requirement already satisfied: apache-airflow-providers-smtp in /usr/local/lib/python3.10/dist-packages (from apache-airflow) (1.9.0)\n",
            "Requirement already satisfied: apache-airflow-providers-sqlite in /usr/local/lib/python3.10/dist-packages (from apache-airflow) (4.0.0)\n",
            "Requirement already satisfied: greenlet!=0.4.17 in /usr/local/lib/python3.10/dist-packages (from sqlalchemy) (3.1.1)\n",
            "Requirement already satisfied: Mako in /usr/local/lib/python3.10/dist-packages (from alembic<2.0,>=1.13.1->apache-airflow) (1.3.8)\n",
            "Requirement already satisfied: typing-extensions>=4 in /usr/local/lib/python3.10/dist-packages (from alembic<2.0,>=1.13.1->apache-airflow) (4.12.2)\n",
            "Requirement already satisfied: flask-appbuilder==4.5.2 in /usr/local/lib/python3.10/dist-packages (from apache-airflow-providers-fab>=1.0.2->apache-airflow) (4.5.2)\n",
            "Requirement already satisfied: flask-login>=0.6.2 in /usr/local/lib/python3.10/dist-packages (from apache-airflow-providers-fab>=1.0.2->apache-airflow) (0.6.3)\n",
            "Requirement already satisfied: jmespath>=0.7.0 in /usr/local/lib/python3.10/dist-packages (from apache-airflow-providers-fab>=1.0.2->apache-airflow) (1.0.1)\n",
            "Requirement already satisfied: apispec<7,>=6.0.0 in /usr/local/lib/python3.10/dist-packages (from apispec[yaml]<7,>=6.0.0->flask-appbuilder==4.5.2->apache-airflow-providers-fab>=1.0.2->apache-airflow) (6.8.1)\n",
            "Requirement already satisfied: colorama<1,>=0.3.9 in /usr/local/lib/python3.10/dist-packages (from flask-appbuilder==4.5.2->apache-airflow-providers-fab>=1.0.2->apache-airflow) (0.4.6)\n",
            "Requirement already satisfied: click<9,>=8 in /usr/local/lib/python3.10/dist-packages (from flask-appbuilder==4.5.2->apache-airflow-providers-fab>=1.0.2->apache-airflow) (8.1.8)\n",
            "Requirement already satisfied: email-validator>=1.0.5 in /usr/local/lib/python3.10/dist-packages (from flask-appbuilder==4.5.2->apache-airflow-providers-fab>=1.0.2->apache-airflow) (2.2.0)\n",
            "Requirement already satisfied: Flask-Babel<3,>=1 in /usr/local/lib/python3.10/dist-packages (from flask-appbuilder==4.5.2->apache-airflow-providers-fab>=1.0.2->apache-airflow) (2.0.0)\n",
            "Requirement already satisfied: Flask-Limiter<4,>3 in /usr/local/lib/python3.10/dist-packages (from flask-appbuilder==4.5.2->apache-airflow-providers-fab>=1.0.2->apache-airflow) (3.10.0)\n",
            "Requirement already satisfied: Flask-SQLAlchemy<3,>=2.4 in /usr/local/lib/python3.10/dist-packages (from flask-appbuilder==4.5.2->apache-airflow-providers-fab>=1.0.2->apache-airflow) (2.5.1)\n",
            "Requirement already satisfied: Flask-JWT-Extended<5.0.0,>=4.0.0 in /usr/local/lib/python3.10/dist-packages (from flask-appbuilder==4.5.2->apache-airflow-providers-fab>=1.0.2->apache-airflow) (4.7.1)\n",
            "Requirement already satisfied: marshmallow<4,>=3.18.0 in /usr/local/lib/python3.10/dist-packages (from flask-appbuilder==4.5.2->apache-airflow-providers-fab>=1.0.2->apache-airflow) (3.25.0)\n",
            "Requirement already satisfied: marshmallow-sqlalchemy<0.29.0,>=0.22.0 in /usr/local/lib/python3.10/dist-packages (from flask-appbuilder==4.5.2->apache-airflow-providers-fab>=1.0.2->apache-airflow) (0.28.2)\n",
            "Requirement already satisfied: prison<1.0.0,>=0.2.1 in /usr/local/lib/python3.10/dist-packages (from flask-appbuilder==4.5.2->apache-airflow-providers-fab>=1.0.2->apache-airflow) (0.2.1)\n",
            "Requirement already satisfied: sqlalchemy-utils<1,>=0.32.21 in /usr/local/lib/python3.10/dist-packages (from flask-appbuilder==4.5.2->apache-airflow-providers-fab>=1.0.2->apache-airflow) (0.41.2)\n",
            "Requirement already satisfied: WTForms<4 in /usr/local/lib/python3.10/dist-packages (from flask-appbuilder==4.5.2->apache-airflow-providers-fab>=1.0.2->apache-airflow) (3.2.1)\n",
            "Requirement already satisfied: clickclick<21,>=1.2 in /usr/local/lib/python3.10/dist-packages (from connexion<3.0,>=2.14.2->connexion[flask]<3.0,>=2.14.2->apache-airflow) (20.10.2)\n",
            "Requirement already satisfied: PyYAML<7,>=5.1 in /usr/local/lib/python3.10/dist-packages (from connexion<3.0,>=2.14.2->connexion[flask]<3.0,>=2.14.2->apache-airflow) (6.0.2)\n",
            "Requirement already satisfied: inflection<0.6,>=0.3.1 in /usr/local/lib/python3.10/dist-packages (from connexion<3.0,>=2.14.2->connexion[flask]<3.0,>=2.14.2->apache-airflow) (0.5.1)\n",
            "Requirement already satisfied: pytz>2021.1 in /usr/local/lib/python3.10/dist-packages (from croniter>=2.0.2->apache-airflow) (2024.2)\n",
            "Requirement already satisfied: cffi>=1.12 in /usr/local/lib/python3.10/dist-packages (from cryptography>=41.0.0->apache-airflow) (1.17.1)\n",
            "Requirement already satisfied: wrapt<2,>=1.10 in /usr/local/lib/python3.10/dist-packages (from deprecated>=1.2.13->apache-airflow) (1.17.0)\n",
            "Requirement already satisfied: cachelib<0.10.0,>=0.9.0 in /usr/local/lib/python3.10/dist-packages (from flask-caching>=2.0.0->apache-airflow) (0.9.0)\n",
            "Requirement already satisfied: anyio in /usr/local/lib/python3.10/dist-packages (from httpx>=0.25.0->apache-airflow) (3.7.1)\n",
            "Requirement already satisfied: certifi in /usr/local/lib/python3.10/dist-packages (from httpx>=0.25.0->apache-airflow) (2024.12.14)\n",
            "Requirement already satisfied: httpcore==1.* in /usr/local/lib/python3.10/dist-packages (from httpx>=0.25.0->apache-airflow) (1.0.7)\n",
            "Requirement already satisfied: idna in /usr/local/lib/python3.10/dist-packages (from httpx>=0.25.0->apache-airflow) (3.10)\n",
            "Requirement already satisfied: h11<0.15,>=0.13 in /usr/local/lib/python3.10/dist-packages (from httpcore==1.*->httpx>=0.25.0->apache-airflow) (0.14.0)\n",
            "Requirement already satisfied: zipp>=3.20 in /usr/local/lib/python3.10/dist-packages (from importlib_metadata>=6.5->apache-airflow) (3.21.0)\n",
            "Requirement already satisfied: jsonschema-specifications>=2023.03.6 in /usr/local/lib/python3.10/dist-packages (from jsonschema>=4.18.0->apache-airflow) (2024.10.1)\n",
            "Requirement already satisfied: referencing>=0.28.4 in /usr/local/lib/python3.10/dist-packages (from jsonschema>=4.18.0->apache-airflow) (0.35.1)\n",
            "Requirement already satisfied: rpds-py>=0.7.1 in /usr/local/lib/python3.10/dist-packages (from jsonschema>=4.18.0->apache-airflow) (0.22.3)\n",
            "Requirement already satisfied: uc-micro-py in /usr/local/lib/python3.10/dist-packages (from linkify-it-py>=2.0.0->apache-airflow) (1.0.3)\n",
            "Requirement already satisfied: mdurl~=0.1 in /usr/local/lib/python3.10/dist-packages (from markdown-it-py>=2.1.0->apache-airflow) (0.1.2)\n",
            "Requirement already satisfied: wirerope>=0.4.7 in /usr/local/lib/python3.10/dist-packages (from methodtools>=0.4.7->apache-airflow) (0.4.8)\n",
            "Requirement already satisfied: opentelemetry-exporter-otlp-proto-grpc==1.29.0 in /usr/local/lib/python3.10/dist-packages (from opentelemetry-exporter-otlp>=1.24.0->apache-airflow) (1.29.0)\n",
            "Requirement already satisfied: opentelemetry-exporter-otlp-proto-http==1.29.0 in /usr/local/lib/python3.10/dist-packages (from opentelemetry-exporter-otlp>=1.24.0->apache-airflow) (1.29.0)\n",
            "Requirement already satisfied: googleapis-common-protos~=1.52 in /usr/local/lib/python3.10/dist-packages (from opentelemetry-exporter-otlp-proto-grpc==1.29.0->opentelemetry-exporter-otlp>=1.24.0->apache-airflow) (1.66.0)\n",
            "Requirement already satisfied: grpcio<2.0.0,>=1.63.2 in /usr/local/lib/python3.10/dist-packages (from opentelemetry-exporter-otlp-proto-grpc==1.29.0->opentelemetry-exporter-otlp>=1.24.0->apache-airflow) (1.69.0)\n",
            "Requirement already satisfied: opentelemetry-exporter-otlp-proto-common==1.29.0 in /usr/local/lib/python3.10/dist-packages (from opentelemetry-exporter-otlp-proto-grpc==1.29.0->opentelemetry-exporter-otlp>=1.24.0->apache-airflow) (1.29.0)\n",
            "Requirement already satisfied: opentelemetry-proto==1.29.0 in /usr/local/lib/python3.10/dist-packages (from opentelemetry-exporter-otlp-proto-grpc==1.29.0->opentelemetry-exporter-otlp>=1.24.0->apache-airflow) (1.29.0)\n",
            "Requirement already satisfied: opentelemetry-sdk~=1.29.0 in /usr/local/lib/python3.10/dist-packages (from opentelemetry-exporter-otlp-proto-grpc==1.29.0->opentelemetry-exporter-otlp>=1.24.0->apache-airflow) (1.29.0)\n",
            "Requirement already satisfied: protobuf<6.0,>=5.0 in /usr/local/lib/python3.10/dist-packages (from opentelemetry-proto==1.29.0->opentelemetry-exporter-otlp-proto-grpc==1.29.0->opentelemetry-exporter-otlp>=1.24.0->apache-airflow) (5.29.3)\n",
            "Requirement already satisfied: tzdata>=2020.1 in /usr/local/lib/python3.10/dist-packages (from pendulum<4.0,>=2.1.2->apache-airflow) (2024.2)\n",
            "Requirement already satisfied: time-machine>=2.6.0 in /usr/local/lib/python3.10/dist-packages (from pendulum<4.0,>=2.1.2->apache-airflow) (2.16.0)\n",
            "Requirement already satisfied: six>=1.5 in /usr/local/lib/python3.10/dist-packages (from python-dateutil>=2.7.0->apache-airflow) (1.17.0)\n",
            "Requirement already satisfied: text-unidecode>=1.3 in /usr/local/lib/python3.10/dist-packages (from python-slugify>=5.0->apache-airflow) (1.3)\n",
            "Requirement already satisfied: charset-normalizer<4,>=2 in /usr/local/lib/python3.10/dist-packages (from requests<3,>=2.27.0->apache-airflow) (3.4.1)\n",
            "Requirement already satisfied: urllib3<3,>=1.21.1 in /usr/local/lib/python3.10/dist-packages (from requests<3,>=2.27.0->apache-airflow) (2.3.0)\n",
            "Requirement already satisfied: more-itertools>=9.0.0 in /usr/local/lib/python3.10/dist-packages (from apache-airflow-providers-common-sql->apache-airflow) (10.5.0)\n",
            "Requirement already satisfied: sqlparse>=0.5.1 in /usr/local/lib/python3.10/dist-packages (from apache-airflow-providers-common-sql->apache-airflow) (0.5.3)\n",
            "Requirement already satisfied: aiohttp!=3.11.0,>=3.9.2 in /usr/local/lib/python3.10/dist-packages (from apache-airflow-providers-http->apache-airflow) (3.11.11)\n",
            "Requirement already satisfied: aiosqlite>=0.20.0 in /usr/local/lib/python3.10/dist-packages (from apache-airflow-providers-sqlite->apache-airflow) (0.20.0)\n",
            "Requirement already satisfied: aiohappyeyeballs>=2.3.0 in /usr/local/lib/python3.10/dist-packages (from aiohttp!=3.11.0,>=3.9.2->apache-airflow-providers-http->apache-airflow) (2.4.4)\n",
            "Requirement already satisfied: aiosignal>=1.1.2 in /usr/local/lib/python3.10/dist-packages (from aiohttp!=3.11.0,>=3.9.2->apache-airflow-providers-http->apache-airflow) (1.3.2)\n",
            "Requirement already satisfied: async-timeout<6.0,>=4.0 in /usr/local/lib/python3.10/dist-packages (from aiohttp!=3.11.0,>=3.9.2->apache-airflow-providers-http->apache-airflow) (4.0.3)\n",
            "Requirement already satisfied: frozenlist>=1.1.1 in /usr/local/lib/python3.10/dist-packages (from aiohttp!=3.11.0,>=3.9.2->apache-airflow-providers-http->apache-airflow) (1.5.0)\n",
            "Requirement already satisfied: multidict<7.0,>=4.5 in /usr/local/lib/python3.10/dist-packages (from aiohttp!=3.11.0,>=3.9.2->apache-airflow-providers-http->apache-airflow) (6.1.0)\n",
            "Requirement already satisfied: propcache>=0.2.0 in /usr/local/lib/python3.10/dist-packages (from aiohttp!=3.11.0,>=3.9.2->apache-airflow-providers-http->apache-airflow) (0.2.1)\n",
            "Requirement already satisfied: yarl<2.0,>=1.17.0 in /usr/local/lib/python3.10/dist-packages (from aiohttp!=3.11.0,>=3.9.2->apache-airflow-providers-http->apache-airflow) (1.18.3)\n",
            "Requirement already satisfied: pycparser in /usr/local/lib/python3.10/dist-packages (from cffi>=1.12->cryptography>=41.0.0->apache-airflow) (2.22)\n",
            "Requirement already satisfied: sniffio>=1.1 in /usr/local/lib/python3.10/dist-packages (from anyio->httpx>=0.25.0->apache-airflow) (1.3.1)\n",
            "Requirement already satisfied: exceptiongroup in /usr/local/lib/python3.10/dist-packages (from anyio->httpx>=0.25.0->apache-airflow) (1.2.2)\n",
            "Requirement already satisfied: dnspython>=2.0.0 in /usr/local/lib/python3.10/dist-packages (from email-validator>=1.0.5->flask-appbuilder==4.5.2->apache-airflow-providers-fab>=1.0.2->apache-airflow) (2.7.0)\n",
            "Requirement already satisfied: Babel>=2.3 in /usr/local/lib/python3.10/dist-packages (from Flask-Babel<3,>=1->flask-appbuilder==4.5.2->apache-airflow-providers-fab>=1.0.2->apache-airflow) (2.16.0)\n",
            "Requirement already satisfied: limits>=3.13 in /usr/local/lib/python3.10/dist-packages (from Flask-Limiter<4,>3->flask-appbuilder==4.5.2->apache-airflow-providers-fab>=1.0.2->apache-airflow) (4.0.0)\n",
            "Requirement already satisfied: ordered-set<5,>4 in /usr/local/lib/python3.10/dist-packages (from Flask-Limiter<4,>3->flask-appbuilder==4.5.2->apache-airflow-providers-fab>=1.0.2->apache-airflow) (4.1.0)\n",
            "Requirement already satisfied: opentelemetry-semantic-conventions==0.50b0 in /usr/local/lib/python3.10/dist-packages (from opentelemetry-sdk~=1.29.0->opentelemetry-exporter-otlp-proto-grpc==1.29.0->opentelemetry-exporter-otlp>=1.24.0->apache-airflow) (0.50b0)\n"
          ]
        }
      ]
    },
    {
      "cell_type": "markdown",
      "source": [
        "###Building  data pipelines in Apache Airflow\n",
        "\n",
        "I will combine two Python Operators to extract data from postgreSQL, save it as a CSV file, then read it in and write it to an Elasticsearch index. For this tasks, I will import the pandas, pscycopgq, and elasticsearch libraries."
      ],
      "metadata": {
        "id": "bsRP1pdy_MrA"
      }
    },
    {
      "cell_type": "code",
      "source": [
        "import datetime as dt\n",
        "from datetime import timedelta\n",
        "\n",
        "from airflow import DAG\n",
        "from airflow.operators.bash import BashOperator\n",
        "from airflow.operators.python import PythonOperator\n",
        "\n",
        "import pandas as pd\n",
        "import psycopg2 as db\n",
        "from elasticsearch import Elasticsearch\n",
        "\n",
        "#Next, I will specify the arguments for my DAG. Remember, the start time should be a day behind if you schedule the task to run daily.\n",
        "default_args= {\n",
        "    'owner':  'dinma',\n",
        "    'start_date':  dt.datetime(2023,  1,  9),\n",
        "    'retries': 1,\n",
        "    'retry_delay': dt.timedelta(minutes=5),\n",
        "    }\n",
        "\n",
        "#Here I will create the python functions, one to connect to postgreSQL and one to connect to  Elasticsearch.\n",
        "\n",
        "def queryPostgresql():\n",
        "    conn_string = \"dbname= 'public' host='host' user='***' password='***'\"\n",
        "    conn = db.connect(conn_string)\n",
        "    df = pd.read_sql_query(\"SELECT name, city FROM users\", conn)\n",
        "    df.to_csv('postgresqldata.csv')\n",
        "    print(\"------Data saved--------\")\n",
        "\n",
        "\n",
        "def insertElasticsearch():\n",
        "    es = Elasticsearch(#connection)\n",
        "    df = pd.read_csv('postgresqldata.csv')\n",
        "    for i, r in df.iterrows():\n",
        "        doc = r.to_json()\n",
        "        res = es.index(index=\"frompostgresql\", body=doc)\n",
        "        print(res)\n",
        "\n",
        "# Now I will create two Python operators , one to get the data from postgreSQL and the other to insert data into Elasticsearch. The getData task will be upstream and the insertData task will be downstream.\n",
        "\n",
        "with DAG('MyDBdag',\n",
        "                   default_args=default_args,\n",
        "                   schedule_interval=timedelta(minutes=5),\n",
        "                                                   # '0 * * * *',\n",
        "                 )  as dag:\n",
        "    getData=PythonOperator(task_id='QueryPostgresSQL',\n",
        "                                   python_callable=queryPostgresql)\n",
        "    insertData = PythonOperator(\n",
        "        task_id='InsertDataElasticsearch',\n",
        "        python_callable=insertElasticsearch\n",
        "    )\n",
        "\n",
        "    getData >> insertData\n",
        "\n"
      ],
      "metadata": {
        "id": "mty0bVzN_SXP",
        "colab": {
          "base_uri": "https://localhost:8080/",
          "height": 51
        },
        "outputId": "6f038fc3-9c41-4610-8c26-3ae6ed9c2a59"
      },
      "execution_count": 4,
      "outputs": [
        {
          "output_type": "stream",
          "name": "stdout",
          "text": [
            "[2025-01-10T15:57:47.633+0000] {utils.py:162} INFO - NumExpr defaulting to 2 threads.\n"
          ]
        },
        {
          "output_type": "display_data",
          "data": {
            "text/plain": [
              "\u001b[1;33m<\u001b[0m\u001b[1;33mipython-input-\u001b[0m\u001b[1;33m4\u001b[0m\u001b[1;33m-dbcd39b90c7f\u001b[0m\u001b[1;33m>\u001b[0m\u001b[1;33m:\u001b[0m\u001b[1;33m40\u001b[0m\u001b[1;33m RemovedInAirflow3Warning\u001b[0m\u001b[33m: Param `schedule_interval` is deprecated and will be removed in a future release. Please use `schedule` instead.\u001b[0m\n"
            ],
            "text/html": [
              "<pre style=\"white-space:pre;overflow-x:auto;line-height:normal;font-family:Menlo,'DejaVu Sans Mono',consolas,'Courier New',monospace\"><span style=\"color: #808000; text-decoration-color: #808000; font-weight: bold\">&lt;ipython-input-</span><span style=\"color: #808000; text-decoration-color: #808000; font-weight: bold\">4</span><span style=\"color: #808000; text-decoration-color: #808000; font-weight: bold\">-dbcd39b90c7f&gt;:</span><span style=\"color: #808000; text-decoration-color: #808000; font-weight: bold\">40</span><span style=\"color: #808000; text-decoration-color: #808000; font-weight: bold\"> RemovedInAirflow3Warning</span><span style=\"color: #808000; text-decoration-color: #808000\">: Param `schedule_interval` is deprecated and will be removed in a future release. Please use `schedule` instead.</span>\n",
              "</pre>\n"
            ]
          },
          "metadata": {}
        }
      ]
    },
    {
      "cell_type": "code",
      "source": [
        "!airflow webserver -p 8081 -H 0.0.0.0 &\n",
        "\n",
        "\n",
        "\n",
        "\n"
      ],
      "metadata": {
        "colab": {
          "base_uri": "https://localhost:8080/"
        },
        "id": "e4UrwUejwPBg",
        "outputId": "97fc0fed-b23e-49d5-c65d-5306b386c7e8"
      },
      "execution_count": 8,
      "outputs": [
        {
          "output_type": "stream",
          "name": "stdout",
          "text": [
            "  ____________       _____________\n",
            " ____    |__( )_________  __/__  /________      __\n",
            "____  /| |_  /__  ___/_  /_ __  /_  __ \\_ | /| / /\n",
            "___  ___ |  / _  /   _  __/ _  / / /_/ /_ |/ |/ /\n",
            " _/_/  |_/_/  /_/    /_/    /_/  \\____/____/|__/\n",
            "Running the Gunicorn Server with:\n",
            "Workers: 4 sync\n",
            "Host: 0.0.0.0:8081\n",
            "Timeout: 120\n",
            "Logfiles: - -\n",
            "Access Logformat: \n",
            "=================================================================\n",
            "\u001b[1;33m/usr/local/lib/python3.10/dist-packages/flask_limiter/\u001b[0m\u001b[1;33mextension.py\u001b[0m\u001b[1;33m:\u001b[0m\u001b[1;33m333\u001b[0m\u001b[1;33m UserWarning\u001b[0m\u001b[33m: Using the in-memory storage for tracking rate limits as no storage was explicitly specified. This is not recommended for production use. See: \u001b[0m\u001b[4;33mhttps://flask-limiter.readthedocs.io#configuring-a-storage-backend\u001b[0m\u001b[33m for documentation about configuring the storage backend.\u001b[0m\n",
            "[\u001b[34m2025-01-10T16:11:37.593+0000\u001b[0m] {\u001b[34mutils.py:\u001b[0m162} INFO\u001b[0m - NumExpr defaulting to 2 threads.\u001b[0m\n",
            "[2025-01-10 16:11:39 +0000] [20419] [INFO] Starting gunicorn 23.0.0\n",
            "[2025-01-10 16:11:39 +0000] [20419] [INFO] Listening at: http://0.0.0.0:8081 (20419)\n",
            "[2025-01-10 16:11:39 +0000] [20419] [INFO] Using worker: sync\n",
            "[2025-01-10 16:11:39 +0000] [20470] [INFO] Booting worker with pid: 20470\n",
            "[2025-01-10 16:11:39 +0000] [20471] [INFO] Booting worker with pid: 20471\n",
            "[2025-01-10 16:11:39 +0000] [20472] [INFO] Booting worker with pid: 20472\n",
            "[2025-01-10 16:11:39 +0000] [20473] [INFO] Booting worker with pid: 20473\n",
            "[2025-01-10 16:19:53 +0000] [20419] [INFO] Handling signal: int\n",
            "[\u001b[34m2025-01-10T16:19:53.367+0000\u001b[0m] {\u001b[34mwebserver_command.py:\u001b[0m430} INFO\u001b[0m - Received signal: 2. Closing gunicorn.\u001b[0m\n",
            "[2025-01-10 16:19:53 +0000] [20470] [INFO] Worker exiting (pid: 20470)\n",
            "[2025-01-10 16:19:53 +0000] [20472] [INFO] Worker exiting (pid: 20472)\n",
            "[2025-01-10 16:19:53 +0000] [20473] [INFO] Worker exiting (pid: 20473)\n",
            "[2025-01-10 16:19:53 +0000] [20471] [INFO] Worker exiting (pid: 20471)\n",
            "[\u001b[34m2025-01-10T16:19:55.432+0000\u001b[0m] {\u001b[34mwebserver_command.py:\u001b[0m430} INFO\u001b[0m - Received signal: 2. Closing gunicorn.\u001b[0m\n",
            "[2025-01-10 16:19:55 +0000] [20419] [ERROR] Worker (pid:20472) was sent SIGINT!\n",
            "[2025-01-10 16:19:55 +0000] [20419] [ERROR] Worker (pid:20473) was sent SIGINT!\n",
            "[2025-01-10 16:19:55 +0000] [20419] [ERROR] Worker (pid:20470) was sent SIGINT!\n",
            "[2025-01-10 16:19:55 +0000] [20419] [ERROR] Worker (pid:20471) was sent SIGINT!\n",
            "[2025-01-10 16:19:55 +0000] [20419] [INFO] Shutting down: Master\n"
          ]
        }
      ]
    },
    {
      "cell_type": "code",
      "source": [],
      "metadata": {
        "id": "9Ow7HPKQwOk4"
      },
      "execution_count": null,
      "outputs": []
    }
  ],
  "metadata": {
    "colab": {
      "provenance": [],
      "authorship_tag": "ABX9TyMH/FkwUsR+t0uYlpQIS/vB",
      "include_colab_link": true
    },
    "kernelspec": {
      "display_name": "Python 3",
      "name": "python3"
    },
    "language_info": {
      "name": "python"
    }
  },
  "nbformat": 4,
  "nbformat_minor": 0
}